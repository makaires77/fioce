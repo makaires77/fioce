{
 "cells": [
  {
   "cell_type": "code",
   "execution_count": 11,
   "metadata": {},
   "outputs": [
    {
     "name": "stdout",
     "output_type": "stream",
     "text": [
      "Fetching data for DoWhy...\n",
      "Number of articles mentioning DoWhy in Google Scholar: 633  \n",
      "Number of articles mentioning DoWhy in         PubMed: 14   \n",
      "Number of articles mentioning DoWhy in Science Direct: Failed to retrieve data, HTTP Status Code: 403\n",
      "---------------------------------------------------------------------------\n",
      "Fetching data for CausalML...\n",
      "Number of articles mentioning CausalML in Google Scholar: 504  \n",
      "Number of articles mentioning CausalML in         PubMed: 10,630,105\n",
      "Number of articles mentioning CausalML in Science Direct: Failed to retrieve data, HTTP Status Code: 403\n",
      "---------------------------------------------------------------------------\n"
     ]
    }
   ],
   "source": [
    "# Importação de bibliotecas necessárias\n",
    "from selenium.webdriver.support.ui import WebDriverWait\n",
    "from selenium.webdriver.support import expected_conditions as EC\n",
    "from selenium.webdriver.common.by import By\n",
    "from selenium import webdriver\n",
    "from bs4 import BeautifulSoup\n",
    "from lxml import html\n",
    "import requests\n",
    "import time\n",
    "import re\n",
    "\n",
    "def search_google_scholar(keyword):\n",
    "    url = f\"https://scholar.google.com/scholar?q={keyword}\"\n",
    "    response = requests.get(url)\n",
    "    soup = BeautifulSoup(response.content, 'html.parser')\n",
    "    results = soup.find('div', {'id': 'gs_ab_md'})\n",
    "    if results:\n",
    "        return results.text.split()[1]\n",
    "    else:\n",
    "        return \"Data not available\"\n",
    "\n",
    "def search_pubmed(keyword):\n",
    "    url = f\"https://pubmed.ncbi.nlm.nih.gov/?term={keyword}\"\n",
    "    response = requests.get(url)\n",
    "    soup = BeautifulSoup(response.content, 'html.parser')\n",
    "    results = soup.find('div', {'class': 'results-amount'})\n",
    "    if results:\n",
    "        return results.text.strip().split()[0]\n",
    "    else:\n",
    "        return \"Data not available\"\n",
    "\n",
    "def search_science_direct_selenium(keyword):\n",
    "    options = webdriver.ChromeOptions()\n",
    "    options.add_argument(\"--headless\")  # Run Chrome in headless mode\n",
    "    driver = webdriver.Chrome(options=options)\n",
    "    \n",
    "    url = f\"https://www.sciencedirect.com/search?qs={keyword}&articleTypes=REV%2CFLA&lastSelectedFacet=articleTypes\"\n",
    "    driver.get(url)\n",
    "    \n",
    "    try:\n",
    "        element = WebDriverWait(driver, 10).until(\n",
    "            EC.presence_of_element_located((By.CSS_SELECTOR, \"span.search-body-results-text\"))\n",
    "        )\n",
    "        text = element.text\n",
    "        results = int(re.search(r'\\d+', text).group())\n",
    "        return str(results)\n",
    "    except Exception as e:\n",
    "        return f\"Exception encountered: {e}\"\n",
    "    finally:\n",
    "        driver.quit()\n",
    "\n",
    "\n",
    "    \n",
    "if __name__ == \"__main__\":\n",
    "    keywords = [\"DoWhy\", \"CausalML\"]\n",
    "\n",
    "    for keyword in keywords:\n",
    "        print(f\"Fetching data for {keyword}...\")\n",
    "        \n",
    "        # Google Scholar\n",
    "        gs_count = search_google_scholar(keyword)\n",
    "        print(f\"Number of articles mentioning {keyword} in Google Scholar: {gs_count:5}\")\n",
    "\n",
    "        # PubMed\n",
    "        pm_count = search_pubmed(keyword)\n",
    "        print(f\"Number of articles mentioning {keyword} in         PubMed: {pm_count:5}\")\n",
    "\n",
    "        # Science Direct\n",
    "        sd_count = search_science_direct(keyword)\n",
    "        print(f\"Number of articles mentioning {keyword} in Science Direct: {sd_count:5}\")\n",
    "\n",
    "        print(\"-\" * 75)\n",
    "        \n",
    "        # Adding sleep to avoid rate-limiting\n",
    "        time.sleep(5)"
   ]
  },
  {
   "cell_type": "code",
   "execution_count": 8,
   "metadata": {},
   "outputs": [
    {
     "data": {
      "text/plain": [
       "'https://www.sciencedirect.com/search?qs=CausalML&articleTypes=REV%2CFLA&lastSelectedFacet=articleTypes'"
      ]
     },
     "execution_count": 8,
     "metadata": {},
     "output_type": "execute_result"
    }
   ],
   "source": [
    "url = f\"https://www.sciencedirect.com/search?qs={keyword}&articleTypes=REV%2CFLA&lastSelectedFacet=articleTypes\"\n",
    "url"
   ]
  },
  {
   "cell_type": "code",
   "execution_count": 9,
   "metadata": {},
   "outputs": [
    {
     "data": {
      "text/plain": [
       "<Response [403]>"
      ]
     },
     "execution_count": 9,
     "metadata": {},
     "output_type": "execute_result"
    }
   ],
   "source": [
    "from bs4 import BeautifulSoup\n",
    "import requests\n",
    "import re\n",
    "\n",
    "keyword='DoWhy'\n",
    "url = f\"https://www.sciencedirect.com/search?qs={keyword}&articleTypes=REV%2CFLA&lastSelectedFacet=articleTypes\"\n",
    "response = requests.get(url)\n",
    "response"
   ]
  },
  {
   "cell_type": "code",
   "execution_count": null,
   "metadata": {},
   "outputs": [],
   "source": [
    "\n",
    "soup = BeautifulSoup(response.content, 'html.parser')\n",
    "\n",
    "# Use the class name to locate the element\n",
    "element = soup.find('span', {'class': 'search-body-results-text'})\n",
    "\n",
    "# Proceed if the element exists\n",
    "if element:\n",
    "    text = element.get_text()\n",
    "    results = int(re.search(r'\\d+', text).group())\n",
    "    return str(results)\n",
    "else:\n",
    "    return \"Data not available\"\n"
   ]
  }
 ],
 "metadata": {
  "kernelspec": {
   "display_name": "beakerx",
   "language": "python",
   "name": "python3"
  },
  "language_info": {
   "codemirror_mode": {
    "name": "ipython",
    "version": 3
   },
   "file_extension": ".py",
   "mimetype": "text/x-python",
   "name": "python",
   "nbconvert_exporter": "python",
   "pygments_lexer": "ipython3",
   "version": "3.11.2"
  },
  "orig_nbformat": 4
 },
 "nbformat": 4,
 "nbformat_minor": 2
}
