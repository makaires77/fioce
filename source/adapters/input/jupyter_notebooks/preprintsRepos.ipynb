{
 "cells": [
  {
   "cell_type": "markdown",
   "metadata": {},
   "source": [
    "## Pré-print Repositories"
   ]
  },
  {
   "cell_type": "code",
   "execution_count": 1,
   "metadata": {},
   "outputs": [],
   "source": [
    "import requests\n",
    "import numpy as np\n",
    "from pprint import pprint\n",
    "from bs4 import BeautifulSoup\n",
    "import matplotlib.pyplot as plt\n",
    "import plotly.graph_objs as go\n",
    "from plotly.subplots import make_subplots"
   ]
  },
  {
   "cell_type": "code",
   "execution_count": 2,
   "metadata": {},
   "outputs": [],
   "source": [
    "def scrape_subject_areas(url):\n",
    "    # Enviar uma solicitação GET para a página\n",
    "    response = requests.get(url)\n",
    "\n",
    "    # Dicionário para armazenar as áreas de assunto\n",
    "    subject_areas_dict = {}\n",
    "\n",
    "    # Verifique se a solicitação foi bem-sucedida\n",
    "    if response.status_code == 200:\n",
    "        # Analise o conteúdo da página com BeautifulSoup\n",
    "        soup = BeautifulSoup(response.text, 'html.parser')\n",
    "\n",
    "        # Encontre o elemento div que contém as áreas de assunto\n",
    "        subject_areas_div = soup.find('div', class_='item-list highwire-views-col-list highwire-views-cols-3 clearfix')\n",
    "\n",
    "        # Verifique se o elemento foi encontrado\n",
    "        if subject_areas_div:\n",
    "            # Encontre todas as tags 'a' dentro do div\n",
    "            subject_links = subject_areas_div.find_all('a')\n",
    "            \n",
    "            # Itere sobre as tags 'a' para extrair as áreas de assunto e seus URLs\n",
    "            for link in subject_links:\n",
    "                area_name = link.text.strip()\n",
    "                area_url = link['href']\n",
    "                subject_areas_dict[area_name] = area_url\n",
    "\n",
    "        # Exiba o dicionário resultante\n",
    "        # print(subject_areas_dict)\n",
    "\n",
    "    return subject_areas_dict"
   ]
  },
  {
   "cell_type": "code",
   "execution_count": 3,
   "metadata": {},
   "outputs": [
    {
     "name": "stdout",
     "output_type": "stream",
     "text": [
      "27 coleções de áreas\n",
      "   Área: Animal Behavior and Cognition            URL: /collection/animal-behavior-and-cognition\n",
      "   Área: Biochemistry                             URL: /collection/biochemistry\n",
      "   Área: Bioengineering                           URL: /collection/bioengineering\n",
      "   Área: Bioinformatics                           URL: /collection/bioinformatics\n",
      "   Área: Biophysics                               URL: /collection/biophysics\n",
      "   Área: Cancer Biology                           URL: /collection/cancer-biology\n",
      "   Área: Cell Biology                             URL: /collection/cell-biology\n",
      "   Área: Clinical Trials                          URL: /collection/clinical-trials\n",
      "   Área: Developmental Biology                    URL: /collection/developmental-biology\n",
      "   Área: Ecology                                  URL: /collection/ecology\n",
      "   Área: Epidemiology                             URL: /collection/epidemiology\n",
      "   Área: Evolutionary Biology                     URL: /collection/evolutionary-biology\n",
      "   Área: Genetics                                 URL: /collection/genetics\n",
      "   Área: Genomics                                 URL: /collection/genomics\n",
      "   Área: Immunology                               URL: /collection/immunology\n",
      "   Área: Microbiology                             URL: /collection/microbiology\n",
      "   Área: Molecular Biology                        URL: /collection/molecular-biology\n",
      "   Área: Neuroscience                             URL: /collection/neuroscience\n",
      "   Área: Paleontology                             URL: /collection/paleontology\n",
      "   Área: Pathology                                URL: /collection/pathology\n",
      "   Área: Pharmacology and Toxicology              URL: /collection/pharmacology-and-toxicology\n",
      "   Área: Physiology                               URL: /collection/physiology\n",
      "   Área: Plant Biology                            URL: /collection/plant-biology\n",
      "   Área: Scientific Communication and Education   URL: /collection/scientific-communication-and-education\n",
      "   Área: Synthetic Biology                        URL: /collection/synthetic-biology\n",
      "   Área: Systems Biology                          URL: /collection/systems-biology\n",
      "   Área: Zoology                                  URL: /collection/zoology\n"
     ]
    }
   ],
   "source": [
    "url_bioRxiv = 'https://www.biorxiv.org/'\n",
    "areas_dict = scrape_subject_areas(url_bioRxiv)\n",
    "print(f'{len(areas_dict)} coleções de áreas')\n",
    "\n",
    "if areas_dict:\n",
    "    for area, area_url in areas_dict.items():\n",
    "        print(f'   Área: {area:40} URL: {area_url}')\n",
    "else:\n",
    "    print('Seção de áreas de assunto não encontrada.')"
   ]
  },
  {
   "cell_type": "code",
   "execution_count": 4,
   "metadata": {},
   "outputs": [],
   "source": [
    "def fetch_content_summary_statistics(interval='m', format_='json'):\n",
    "    # Construa a URL do endpoint\n",
    "    url = f'https://api.biorxiv.org/sum/{interval}/{format_}'\n",
    "    \n",
    "    # Faça a solicitação GET\n",
    "    response = requests.get(url)\n",
    "    \n",
    "    # Verifique se a solicitação foi bem-sucedida\n",
    "    if response.status_code == 200:\n",
    "        data = response.json()\n",
    "        return data\n",
    "    else:\n",
    "        print(f\"Erro ao buscar estatísticas de resumo de conteúdo. Código de status: {response.status_code}\")\n",
    "        return None\n",
    "\n",
    "def fetch_usage_summary_statistics(interval='m', format_='json'):\n",
    "    # Construa a URL do endpoint\n",
    "    url = f'https://api.biorxiv.org/usage/{interval}/{format_}'\n",
    "    \n",
    "    # Faça a solicitação GET\n",
    "    response = requests.get(url)\n",
    "    \n",
    "    # Verifique se a solicitação foi bem-sucedida\n",
    "    if response.status_code == 200:\n",
    "        data = response.json()\n",
    "        return data\n",
    "    else:\n",
    "        print(f\"Erro ao buscar estatísticas de uso. Código de status: {response.status_code}\")\n",
    "        return None"
   ]
  },
  {
   "cell_type": "code",
   "execution_count": 5,
   "metadata": {},
   "outputs": [],
   "source": [
    "# Exemplo de uso das funções\n",
    "content_summary_data = fetch_content_summary_statistics()\n",
    "usage_summary_data   = fetch_usage_summary_statistics()"
   ]
  },
  {
   "cell_type": "code",
   "execution_count": 6,
   "metadata": {},
   "outputs": [],
   "source": [
    "# Exibir os resultados\n",
    "# print(\"Estatísticas de Resumo de Conteúdo:\")\n",
    "# pprint(content_summary_data, width=125)"
   ]
  },
  {
   "cell_type": "code",
   "execution_count": 7,
   "metadata": {},
   "outputs": [],
   "source": [
    "# print(\"Estatísticas de Uso:\")\n",
    "# pprint(usage_summary_data, width=125)"
   ]
  },
  {
   "cell_type": "code",
   "execution_count": 8,
   "metadata": {},
   "outputs": [],
   "source": [
    "def plot_usage_statistics(data, width=1800, height=800):\n",
    "    # Extrair os valores relevantes dos dados\n",
    "    months = [entry['month'] for entry in data['bioRxiv content statistics']]\n",
    "    abstract_cumulative = [np.round(int(entry['abstract_cumulative'])/1000000, 2) for entry in data['bioRxiv content statistics']]\n",
    "    abstract_views = [np.round(int(entry['abstract_views'])/1000000, 2) for entry in data['bioRxiv content statistics']]\n",
    "\n",
    "    # Criar um DataFrame com os dados\n",
    "    import pandas as pd\n",
    "    df = pd.DataFrame({'Mês': months, 'Resumo Cumulativo': abstract_cumulative, 'Visualizações de Resumo': abstract_views})\n",
    "\n",
    "    # Criar um gráfico com dois eixos y\n",
    "    fig = make_subplots(specs=[[{\"secondary_y\": True}]])\n",
    "    \n",
    "    # Adicionar barras para 'Resumo Cumulativo'\n",
    "    fig.add_trace(go.Bar(x=df['Mês'], y=df['Resumo Cumulativo'], name='Resumo Cumulativo', text=df['Resumo Cumulativo'], textposition='outside'))\n",
    "\n",
    "    # Adicionar linhas para 'Visualizações de Resumo'\n",
    "    fig.add_trace(go.Scatter(x=df['Mês'], y=df['Visualizações de Resumo'], mode='lines+markers+text', name='Visualizações de Resumo', textposition='top center', yaxis='y2'))\n",
    "\n",
    "    # Configurar eixos\n",
    "    max_value_primary = max(df['Resumo Cumulativo'].max()+30, df['Visualizações de Resumo'].max())\n",
    "    ratio = 50  # Proporção desejada\n",
    "    max_value_secondary = max_value_primary / ratio\n",
    "\n",
    "    fig.update_layout(\n",
    "        title='Estatísticas de uso do bioRxiv',\n",
    "        xaxis_title='Mês',\n",
    "        yaxis_title='Milhões de resumos acumulados',\n",
    "        yaxis2_title='Milhões de visualizações por mês',\n",
    "        legend=dict(x=0.02, y=0.96),\n",
    "        width=width,\n",
    "        height=height,\n",
    "        yaxis=dict(range=[0, max_value_primary]),\n",
    "        yaxis2=dict(range=[0, max_value_secondary])\n",
    "    )\n",
    "\n",
    "    # Configurar o tamanho da fonte para os rótulos de dados\n",
    "    fig.update_traces(\n",
    "        textfont=dict(size=24),  # Tamanho da fonte para os rótulos de dados\n",
    "        selector=dict(type='bar', name='Resumo Cumulativo')  # Seletor para as barras\n",
    "    )\n",
    "\n",
    "    fig.update_traces(\n",
    "        textfont=dict(size=40),  # Tamanho da fonte para os rótulos de dados\n",
    "        selector=dict(type='scatter', name='Visualizações de Resumo')  # Seletor para as linhas\n",
    "    )\n",
    "\n",
    "    # Exibir o gráfico\n",
    "    fig.show()\n",
    "\n",
    "def plot_content_statistics(content_data, width=1800, height=800):\n",
    "    # Extrair os valores relevantes dos dados\n",
    "    months = [entry['month'] for entry in content_data['bioRxiv content statistics']]\n",
    "    new_papers = [entry['new_papers'] for entry in content_data['bioRxiv content statistics']]\n",
    "    revised_papers = [entry['revised_papers'] for entry in content_data['bioRxiv content statistics']]\n",
    "    new_papers_cumulative = [entry['new_papers_cumulative'] for entry in content_data['bioRxiv content statistics']]\n",
    "    revised_papers_cumulative = [entry['revised_papers_cumulative'] for entry in content_data['bioRxiv content statistics']]\n",
    "\n",
    "    # Criar um DataFrame com os dados\n",
    "    import pandas as pd\n",
    "    df = pd.DataFrame({'Mês': months,\n",
    "                        'Artigos novos no mês': new_papers, \n",
    "                        'Artigos revisados no mês':revised_papers, \n",
    "                        'Total de Artigos acumulado':new_papers_cumulative , \n",
    "                        'Total de Artigos revisados':revised_papers_cumulative})\n",
    "\n",
    "    # Criar um gráfico com dois eixos y\n",
    "    fig = make_subplots(specs=[[{\"secondary_y\": True}]])\n",
    "    \n",
    "    # Adicionar barras para total acumulado de artigos\n",
    "    fig.add_trace(go.Bar(x=df['Mês'], y=df['Total de Artigos acumulado'], name='Total de Artigos acumulado', text=df['Total de Artigos acumulado'], textposition='outside'))\n",
    "    fig.add_trace(go.Bar(x=df['Mês'], y=df['Total de Artigos revisados'], name='Total de Artigos revisados', text=df['Total de Artigos revisados'], textposition='outside'))\n",
    "\n",
    "    # Configurar eixo principal\n",
    "    fig.update_yaxes(title_text='Quantidade de Artigos', secondary_y=False)\n",
    "\n",
    "    # Adicionar linhas para versões acumuladas no eixo secundário\n",
    "    fig.add_trace(go.Scatter(x=df['Mês'], y=df['Artigos novos no mês'], mode='lines+markers+text', name='Artigos novos no mês', textposition='top center', yaxis='y2'))\n",
    "    fig.add_trace(go.Scatter(x=df['Mês'], y=df['Artigos revisados no mês'], mode='lines+markers+text', name='Artigos revisados no mês', textposition='top center', yaxis='y2'))\n",
    "\n",
    "    # Configurar eixos\n",
    "    max_value_primary = max(df['Total de Artigos acumulado'].max()+30, df['Total de Artigos revisados'].max())\n",
    "    ratio = 50  # Proporção desejada\n",
    "    max_value_secondary = max_value_primary / ratio\n",
    "\n",
    "    fig.update_layout(\n",
    "        title='Estatísticas de conteúdo no bioRxiv',\n",
    "        xaxis_title='Mês',\n",
    "        yaxis_title='Quantidade acumulada de artigos',\n",
    "        yaxis2_title='Quantidades de artigos em cada mês',\n",
    "        legend=dict(x=0.02, y=0.96),\n",
    "        width=width,\n",
    "        height=height,\n",
    "        yaxis=dict(range=[0, max_value_primary]),\n",
    "        yaxis2=dict(range=[0, max_value_secondary])\n",
    "    )\n",
    "\n",
    "    # Configurar o tamanho da fonte para os rótulos de dados\n",
    "    fig.update_traces(\n",
    "        textfont=dict(size=24),\n",
    "        selector=dict(type='bar', name='Quantidade de novos papers')  # Seletor para as barras\n",
    "    )\n",
    "\n",
    "    fig.update_traces(\n",
    "        textfont=dict(size=40),\n",
    "        selector=dict(type='scatter', name='Quantidade de papers revisados')  # Seletor para as linhas\n",
    "    )\n",
    "    \n",
    "    # fig.update_yaxes(overlaying='y2', side='right')\n",
    "\n",
    "    # Exibir o gráfico\n",
    "    fig.show()"
   ]
  },
  {
   "cell_type": "code",
   "execution_count": 9,
   "metadata": {},
   "outputs": [
    {
     "data": {
      "application/vnd.plotly.v1+json": {
       "config": {
        "plotlyServerURL": "https://plot.ly"
       },
       "data": [
        {
         "name": "Total de Artigos acumulado",
         "text": [
          60,
          109,
          163,
          229,
          272,
          338,
          419,
          491,
          558,
          638,
          731,
          819,
          900,
          995,
          1109,
          1197,
          1317,
          1436,
          1548,
          1676,
          1835,
          1994,
          2157,
          2348,
          2575,
          2769,
          2971,
          3242,
          3608,
          3953,
          4341,
          4741,
          5127,
          5575,
          6013,
          6470,
          6933,
          7490,
          8076,
          8699,
          9512,
          10253,
          11211,
          12308,
          13286,
          14274,
          15334,
          16542,
          17738,
          18837,
          20084,
          21311,
          22794,
          24289,
          26221,
          28090,
          29817,
          31679,
          33594,
          35713,
          37668,
          39620,
          41794,
          43877,
          46285,
          48529,
          51038,
          53393,
          56007,
          58382,
          61026,
          63935,
          66499,
          68801,
          71458,
          74202,
          77239,
          80652,
          84449,
          88268,
          91964,
          95150,
          98301,
          101489,
          104495,
          107518,
          110522,
          113677,
          117201,
          120451,
          123680,
          126680,
          129614,
          132461,
          135487,
          138548,
          141418,
          144383,
          147238,
          149884,
          153073,
          155768,
          158855,
          161746,
          164731,
          167636,
          170919,
          174130,
          177123,
          180133,
          183120,
          186115,
          189562,
          192517,
          195622,
          198889,
          202066,
          205379,
          208967
         ],
         "textposition": "outside",
         "type": "bar",
         "x": [
          "2013-11",
          "2013-12",
          "2014-01",
          "2014-02",
          "2014-03",
          "2014-04",
          "2014-05",
          "2014-06",
          "2014-07",
          "2014-08",
          "2014-09",
          "2014-10",
          "2014-11",
          "2014-12",
          "2015-01",
          "2015-02",
          "2015-03",
          "2015-04",
          "2015-05",
          "2015-06",
          "2015-07",
          "2015-08",
          "2015-09",
          "2015-10",
          "2015-11",
          "2015-12",
          "2016-01",
          "2016-02",
          "2016-03",
          "2016-04",
          "2016-05",
          "2016-06",
          "2016-07",
          "2016-08",
          "2016-09",
          "2016-10",
          "2016-11",
          "2016-12",
          "2017-01",
          "2017-02",
          "2017-03",
          "2017-04",
          "2017-05",
          "2017-06",
          "2017-07",
          "2017-08",
          "2017-09",
          "2017-10",
          "2017-11",
          "2017-12",
          "2018-01",
          "2018-02",
          "2018-03",
          "2018-04",
          "2018-05",
          "2018-06",
          "2018-07",
          "2018-08",
          "2018-09",
          "2018-10",
          "2018-11",
          "2018-12",
          "2019-01",
          "2019-02",
          "2019-03",
          "2019-04",
          "2019-05",
          "2019-06",
          "2019-07",
          "2019-08",
          "2019-09",
          "2019-10",
          "2019-11",
          "2019-12",
          "2020-01",
          "2020-02",
          "2020-03",
          "2020-04",
          "2020-05",
          "2020-06",
          "2020-07",
          "2020-08",
          "2020-09",
          "2020-10",
          "2020-11",
          "2020-12",
          "2021-01",
          "2021-02",
          "2021-03",
          "2021-04",
          "2021-05",
          "2021-06",
          "2021-07",
          "2021-08",
          "2021-09",
          "2021-10",
          "2021-11",
          "2021-12",
          "2022-01",
          "2022-02",
          "2022-03",
          "2022-04",
          "2022-05",
          "2022-06",
          "2022-07",
          "2022-08",
          "2022-09",
          "2022-10",
          "2022-11",
          "2022-12",
          "2023-01",
          "2023-02",
          "2023-03",
          "2023-04",
          "2023-05",
          "2023-06",
          "2023-07",
          "2023-08",
          "2023-09"
         ],
         "y": [
          60,
          109,
          163,
          229,
          272,
          338,
          419,
          491,
          558,
          638,
          731,
          819,
          900,
          995,
          1109,
          1197,
          1317,
          1436,
          1548,
          1676,
          1835,
          1994,
          2157,
          2348,
          2575,
          2769,
          2971,
          3242,
          3608,
          3953,
          4341,
          4741,
          5127,
          5575,
          6013,
          6470,
          6933,
          7490,
          8076,
          8699,
          9512,
          10253,
          11211,
          12308,
          13286,
          14274,
          15334,
          16542,
          17738,
          18837,
          20084,
          21311,
          22794,
          24289,
          26221,
          28090,
          29817,
          31679,
          33594,
          35713,
          37668,
          39620,
          41794,
          43877,
          46285,
          48529,
          51038,
          53393,
          56007,
          58382,
          61026,
          63935,
          66499,
          68801,
          71458,
          74202,
          77239,
          80652,
          84449,
          88268,
          91964,
          95150,
          98301,
          101489,
          104495,
          107518,
          110522,
          113677,
          117201,
          120451,
          123680,
          126680,
          129614,
          132461,
          135487,
          138548,
          141418,
          144383,
          147238,
          149884,
          153073,
          155768,
          158855,
          161746,
          164731,
          167636,
          170919,
          174130,
          177123,
          180133,
          183120,
          186115,
          189562,
          192517,
          195622,
          198889,
          202066,
          205379,
          208967
         ]
        },
        {
         "name": "Total de Artigos revisados",
         "text": [
          13,
          34,
          54,
          75,
          105,
          138,
          159,
          194,
          221,
          263,
          302,
          333,
          372,
          406,
          439,
          477,
          540,
          601,
          658,
          718,
          781,
          864,
          936,
          1027,
          1100,
          1182,
          1273,
          1395,
          1549,
          1694,
          1859,
          1992,
          2142,
          2317,
          2476,
          2687,
          2876,
          3085,
          3310,
          3559,
          3892,
          4178,
          4540,
          4945,
          5342,
          5819,
          6270,
          6764,
          7264,
          7711,
          8276,
          8804,
          9418,
          9971,
          10609,
          11259,
          11936,
          12630,
          13259,
          14056,
          14791,
          15498,
          16351,
          17046,
          17930,
          18772,
          19690,
          20544,
          21530,
          22481,
          23391,
          24404,
          25329,
          26181,
          27173,
          28195,
          29362,
          30611,
          31972,
          33299,
          34617,
          35754,
          36955,
          38190,
          39311,
          40504,
          41763,
          42993,
          44424,
          45686,
          46958,
          48150,
          49291,
          50434,
          51575,
          52737,
          53879,
          54928,
          56008,
          57028,
          58148,
          59232,
          60405,
          61455,
          62498,
          63551,
          64552,
          65662,
          66769,
          67766,
          68865,
          70012,
          71297,
          72443,
          73740,
          74969,
          76149,
          77413,
          78642
         ],
         "textposition": "outside",
         "type": "bar",
         "x": [
          "2013-11",
          "2013-12",
          "2014-01",
          "2014-02",
          "2014-03",
          "2014-04",
          "2014-05",
          "2014-06",
          "2014-07",
          "2014-08",
          "2014-09",
          "2014-10",
          "2014-11",
          "2014-12",
          "2015-01",
          "2015-02",
          "2015-03",
          "2015-04",
          "2015-05",
          "2015-06",
          "2015-07",
          "2015-08",
          "2015-09",
          "2015-10",
          "2015-11",
          "2015-12",
          "2016-01",
          "2016-02",
          "2016-03",
          "2016-04",
          "2016-05",
          "2016-06",
          "2016-07",
          "2016-08",
          "2016-09",
          "2016-10",
          "2016-11",
          "2016-12",
          "2017-01",
          "2017-02",
          "2017-03",
          "2017-04",
          "2017-05",
          "2017-06",
          "2017-07",
          "2017-08",
          "2017-09",
          "2017-10",
          "2017-11",
          "2017-12",
          "2018-01",
          "2018-02",
          "2018-03",
          "2018-04",
          "2018-05",
          "2018-06",
          "2018-07",
          "2018-08",
          "2018-09",
          "2018-10",
          "2018-11",
          "2018-12",
          "2019-01",
          "2019-02",
          "2019-03",
          "2019-04",
          "2019-05",
          "2019-06",
          "2019-07",
          "2019-08",
          "2019-09",
          "2019-10",
          "2019-11",
          "2019-12",
          "2020-01",
          "2020-02",
          "2020-03",
          "2020-04",
          "2020-05",
          "2020-06",
          "2020-07",
          "2020-08",
          "2020-09",
          "2020-10",
          "2020-11",
          "2020-12",
          "2021-01",
          "2021-02",
          "2021-03",
          "2021-04",
          "2021-05",
          "2021-06",
          "2021-07",
          "2021-08",
          "2021-09",
          "2021-10",
          "2021-11",
          "2021-12",
          "2022-01",
          "2022-02",
          "2022-03",
          "2022-04",
          "2022-05",
          "2022-06",
          "2022-07",
          "2022-08",
          "2022-09",
          "2022-10",
          "2022-11",
          "2022-12",
          "2023-01",
          "2023-02",
          "2023-03",
          "2023-04",
          "2023-05",
          "2023-06",
          "2023-07",
          "2023-08",
          "2023-09"
         ],
         "y": [
          13,
          34,
          54,
          75,
          105,
          138,
          159,
          194,
          221,
          263,
          302,
          333,
          372,
          406,
          439,
          477,
          540,
          601,
          658,
          718,
          781,
          864,
          936,
          1027,
          1100,
          1182,
          1273,
          1395,
          1549,
          1694,
          1859,
          1992,
          2142,
          2317,
          2476,
          2687,
          2876,
          3085,
          3310,
          3559,
          3892,
          4178,
          4540,
          4945,
          5342,
          5819,
          6270,
          6764,
          7264,
          7711,
          8276,
          8804,
          9418,
          9971,
          10609,
          11259,
          11936,
          12630,
          13259,
          14056,
          14791,
          15498,
          16351,
          17046,
          17930,
          18772,
          19690,
          20544,
          21530,
          22481,
          23391,
          24404,
          25329,
          26181,
          27173,
          28195,
          29362,
          30611,
          31972,
          33299,
          34617,
          35754,
          36955,
          38190,
          39311,
          40504,
          41763,
          42993,
          44424,
          45686,
          46958,
          48150,
          49291,
          50434,
          51575,
          52737,
          53879,
          54928,
          56008,
          57028,
          58148,
          59232,
          60405,
          61455,
          62498,
          63551,
          64552,
          65662,
          66769,
          67766,
          68865,
          70012,
          71297,
          72443,
          73740,
          74969,
          76149,
          77413,
          78642
         ]
        },
        {
         "mode": "lines+markers+text",
         "name": "Artigos novos no mês",
         "textposition": "top center",
         "type": "scatter",
         "x": [
          "2013-11",
          "2013-12",
          "2014-01",
          "2014-02",
          "2014-03",
          "2014-04",
          "2014-05",
          "2014-06",
          "2014-07",
          "2014-08",
          "2014-09",
          "2014-10",
          "2014-11",
          "2014-12",
          "2015-01",
          "2015-02",
          "2015-03",
          "2015-04",
          "2015-05",
          "2015-06",
          "2015-07",
          "2015-08",
          "2015-09",
          "2015-10",
          "2015-11",
          "2015-12",
          "2016-01",
          "2016-02",
          "2016-03",
          "2016-04",
          "2016-05",
          "2016-06",
          "2016-07",
          "2016-08",
          "2016-09",
          "2016-10",
          "2016-11",
          "2016-12",
          "2017-01",
          "2017-02",
          "2017-03",
          "2017-04",
          "2017-05",
          "2017-06",
          "2017-07",
          "2017-08",
          "2017-09",
          "2017-10",
          "2017-11",
          "2017-12",
          "2018-01",
          "2018-02",
          "2018-03",
          "2018-04",
          "2018-05",
          "2018-06",
          "2018-07",
          "2018-08",
          "2018-09",
          "2018-10",
          "2018-11",
          "2018-12",
          "2019-01",
          "2019-02",
          "2019-03",
          "2019-04",
          "2019-05",
          "2019-06",
          "2019-07",
          "2019-08",
          "2019-09",
          "2019-10",
          "2019-11",
          "2019-12",
          "2020-01",
          "2020-02",
          "2020-03",
          "2020-04",
          "2020-05",
          "2020-06",
          "2020-07",
          "2020-08",
          "2020-09",
          "2020-10",
          "2020-11",
          "2020-12",
          "2021-01",
          "2021-02",
          "2021-03",
          "2021-04",
          "2021-05",
          "2021-06",
          "2021-07",
          "2021-08",
          "2021-09",
          "2021-10",
          "2021-11",
          "2021-12",
          "2022-01",
          "2022-02",
          "2022-03",
          "2022-04",
          "2022-05",
          "2022-06",
          "2022-07",
          "2022-08",
          "2022-09",
          "2022-10",
          "2022-11",
          "2022-12",
          "2023-01",
          "2023-02",
          "2023-03",
          "2023-04",
          "2023-05",
          "2023-06",
          "2023-07",
          "2023-08",
          "2023-09"
         ],
         "y": [
          60,
          49,
          54,
          66,
          43,
          66,
          81,
          72,
          67,
          80,
          93,
          88,
          81,
          95,
          114,
          88,
          120,
          119,
          112,
          128,
          159,
          159,
          163,
          191,
          227,
          194,
          202,
          271,
          366,
          345,
          388,
          400,
          386,
          448,
          438,
          457,
          463,
          557,
          586,
          623,
          813,
          741,
          958,
          1097,
          978,
          988,
          1060,
          1208,
          1196,
          1099,
          1247,
          1227,
          1483,
          1495,
          1932,
          1869,
          1727,
          1862,
          1915,
          2119,
          1955,
          1952,
          2174,
          2083,
          2408,
          2244,
          2509,
          2355,
          2614,
          2375,
          2644,
          2909,
          2564,
          2302,
          2657,
          2744,
          3037,
          3413,
          3797,
          3819,
          3696,
          3186,
          3151,
          3188,
          3006,
          3023,
          3004,
          3155,
          3524,
          3250,
          3229,
          3000,
          2934,
          2847,
          3026,
          3061,
          2870,
          2965,
          2855,
          2646,
          3189,
          2695,
          3087,
          2891,
          2985,
          2905,
          3283,
          3211,
          2993,
          3010,
          2987,
          2995,
          3447,
          2955,
          3105,
          3267,
          3177,
          3313,
          3588
         ],
         "yaxis": "y2"
        },
        {
         "mode": "lines+markers+text",
         "name": "Artigos revisados no mês",
         "textposition": "top center",
         "type": "scatter",
         "x": [
          "2013-11",
          "2013-12",
          "2014-01",
          "2014-02",
          "2014-03",
          "2014-04",
          "2014-05",
          "2014-06",
          "2014-07",
          "2014-08",
          "2014-09",
          "2014-10",
          "2014-11",
          "2014-12",
          "2015-01",
          "2015-02",
          "2015-03",
          "2015-04",
          "2015-05",
          "2015-06",
          "2015-07",
          "2015-08",
          "2015-09",
          "2015-10",
          "2015-11",
          "2015-12",
          "2016-01",
          "2016-02",
          "2016-03",
          "2016-04",
          "2016-05",
          "2016-06",
          "2016-07",
          "2016-08",
          "2016-09",
          "2016-10",
          "2016-11",
          "2016-12",
          "2017-01",
          "2017-02",
          "2017-03",
          "2017-04",
          "2017-05",
          "2017-06",
          "2017-07",
          "2017-08",
          "2017-09",
          "2017-10",
          "2017-11",
          "2017-12",
          "2018-01",
          "2018-02",
          "2018-03",
          "2018-04",
          "2018-05",
          "2018-06",
          "2018-07",
          "2018-08",
          "2018-09",
          "2018-10",
          "2018-11",
          "2018-12",
          "2019-01",
          "2019-02",
          "2019-03",
          "2019-04",
          "2019-05",
          "2019-06",
          "2019-07",
          "2019-08",
          "2019-09",
          "2019-10",
          "2019-11",
          "2019-12",
          "2020-01",
          "2020-02",
          "2020-03",
          "2020-04",
          "2020-05",
          "2020-06",
          "2020-07",
          "2020-08",
          "2020-09",
          "2020-10",
          "2020-11",
          "2020-12",
          "2021-01",
          "2021-02",
          "2021-03",
          "2021-04",
          "2021-05",
          "2021-06",
          "2021-07",
          "2021-08",
          "2021-09",
          "2021-10",
          "2021-11",
          "2021-12",
          "2022-01",
          "2022-02",
          "2022-03",
          "2022-04",
          "2022-05",
          "2022-06",
          "2022-07",
          "2022-08",
          "2022-09",
          "2022-10",
          "2022-11",
          "2022-12",
          "2023-01",
          "2023-02",
          "2023-03",
          "2023-04",
          "2023-05",
          "2023-06",
          "2023-07",
          "2023-08",
          "2023-09"
         ],
         "y": [
          13,
          21,
          20,
          21,
          30,
          33,
          21,
          35,
          27,
          42,
          39,
          31,
          39,
          34,
          33,
          38,
          63,
          61,
          57,
          60,
          63,
          83,
          72,
          91,
          73,
          82,
          91,
          122,
          154,
          145,
          165,
          133,
          150,
          175,
          159,
          211,
          189,
          209,
          225,
          249,
          333,
          286,
          362,
          405,
          397,
          477,
          451,
          494,
          500,
          447,
          565,
          528,
          614,
          553,
          638,
          650,
          677,
          694,
          629,
          797,
          735,
          707,
          853,
          695,
          884,
          842,
          918,
          854,
          986,
          951,
          910,
          1013,
          925,
          852,
          992,
          1022,
          1167,
          1249,
          1361,
          1327,
          1318,
          1137,
          1201,
          1235,
          1121,
          1193,
          1259,
          1230,
          1431,
          1262,
          1272,
          1192,
          1141,
          1143,
          1141,
          1162,
          1142,
          1049,
          1080,
          1020,
          1120,
          1084,
          1173,
          1050,
          1043,
          1053,
          1001,
          1110,
          1107,
          997,
          1099,
          1147,
          1285,
          1146,
          1297,
          1229,
          1180,
          1264,
          1229
         ],
         "yaxis": "y2"
        }
       ],
       "layout": {
        "height": 800,
        "legend": {
         "x": 0.02,
         "y": 0.96
        },
        "template": {
         "data": {
          "bar": [
           {
            "error_x": {
             "color": "#2a3f5f"
            },
            "error_y": {
             "color": "#2a3f5f"
            },
            "marker": {
             "line": {
              "color": "#E5ECF6",
              "width": 0.5
             },
             "pattern": {
              "fillmode": "overlay",
              "size": 10,
              "solidity": 0.2
             }
            },
            "type": "bar"
           }
          ],
          "barpolar": [
           {
            "marker": {
             "line": {
              "color": "#E5ECF6",
              "width": 0.5
             },
             "pattern": {
              "fillmode": "overlay",
              "size": 10,
              "solidity": 0.2
             }
            },
            "type": "barpolar"
           }
          ],
          "carpet": [
           {
            "aaxis": {
             "endlinecolor": "#2a3f5f",
             "gridcolor": "white",
             "linecolor": "white",
             "minorgridcolor": "white",
             "startlinecolor": "#2a3f5f"
            },
            "baxis": {
             "endlinecolor": "#2a3f5f",
             "gridcolor": "white",
             "linecolor": "white",
             "minorgridcolor": "white",
             "startlinecolor": "#2a3f5f"
            },
            "type": "carpet"
           }
          ],
          "choropleth": [
           {
            "colorbar": {
             "outlinewidth": 0,
             "ticks": ""
            },
            "type": "choropleth"
           }
          ],
          "contour": [
           {
            "colorbar": {
             "outlinewidth": 0,
             "ticks": ""
            },
            "colorscale": [
             [
              0,
              "#0d0887"
             ],
             [
              0.1111111111111111,
              "#46039f"
             ],
             [
              0.2222222222222222,
              "#7201a8"
             ],
             [
              0.3333333333333333,
              "#9c179e"
             ],
             [
              0.4444444444444444,
              "#bd3786"
             ],
             [
              0.5555555555555556,
              "#d8576b"
             ],
             [
              0.6666666666666666,
              "#ed7953"
             ],
             [
              0.7777777777777778,
              "#fb9f3a"
             ],
             [
              0.8888888888888888,
              "#fdca26"
             ],
             [
              1,
              "#f0f921"
             ]
            ],
            "type": "contour"
           }
          ],
          "contourcarpet": [
           {
            "colorbar": {
             "outlinewidth": 0,
             "ticks": ""
            },
            "type": "contourcarpet"
           }
          ],
          "heatmap": [
           {
            "colorbar": {
             "outlinewidth": 0,
             "ticks": ""
            },
            "colorscale": [
             [
              0,
              "#0d0887"
             ],
             [
              0.1111111111111111,
              "#46039f"
             ],
             [
              0.2222222222222222,
              "#7201a8"
             ],
             [
              0.3333333333333333,
              "#9c179e"
             ],
             [
              0.4444444444444444,
              "#bd3786"
             ],
             [
              0.5555555555555556,
              "#d8576b"
             ],
             [
              0.6666666666666666,
              "#ed7953"
             ],
             [
              0.7777777777777778,
              "#fb9f3a"
             ],
             [
              0.8888888888888888,
              "#fdca26"
             ],
             [
              1,
              "#f0f921"
             ]
            ],
            "type": "heatmap"
           }
          ],
          "heatmapgl": [
           {
            "colorbar": {
             "outlinewidth": 0,
             "ticks": ""
            },
            "colorscale": [
             [
              0,
              "#0d0887"
             ],
             [
              0.1111111111111111,
              "#46039f"
             ],
             [
              0.2222222222222222,
              "#7201a8"
             ],
             [
              0.3333333333333333,
              "#9c179e"
             ],
             [
              0.4444444444444444,
              "#bd3786"
             ],
             [
              0.5555555555555556,
              "#d8576b"
             ],
             [
              0.6666666666666666,
              "#ed7953"
             ],
             [
              0.7777777777777778,
              "#fb9f3a"
             ],
             [
              0.8888888888888888,
              "#fdca26"
             ],
             [
              1,
              "#f0f921"
             ]
            ],
            "type": "heatmapgl"
           }
          ],
          "histogram": [
           {
            "marker": {
             "pattern": {
              "fillmode": "overlay",
              "size": 10,
              "solidity": 0.2
             }
            },
            "type": "histogram"
           }
          ],
          "histogram2d": [
           {
            "colorbar": {
             "outlinewidth": 0,
             "ticks": ""
            },
            "colorscale": [
             [
              0,
              "#0d0887"
             ],
             [
              0.1111111111111111,
              "#46039f"
             ],
             [
              0.2222222222222222,
              "#7201a8"
             ],
             [
              0.3333333333333333,
              "#9c179e"
             ],
             [
              0.4444444444444444,
              "#bd3786"
             ],
             [
              0.5555555555555556,
              "#d8576b"
             ],
             [
              0.6666666666666666,
              "#ed7953"
             ],
             [
              0.7777777777777778,
              "#fb9f3a"
             ],
             [
              0.8888888888888888,
              "#fdca26"
             ],
             [
              1,
              "#f0f921"
             ]
            ],
            "type": "histogram2d"
           }
          ],
          "histogram2dcontour": [
           {
            "colorbar": {
             "outlinewidth": 0,
             "ticks": ""
            },
            "colorscale": [
             [
              0,
              "#0d0887"
             ],
             [
              0.1111111111111111,
              "#46039f"
             ],
             [
              0.2222222222222222,
              "#7201a8"
             ],
             [
              0.3333333333333333,
              "#9c179e"
             ],
             [
              0.4444444444444444,
              "#bd3786"
             ],
             [
              0.5555555555555556,
              "#d8576b"
             ],
             [
              0.6666666666666666,
              "#ed7953"
             ],
             [
              0.7777777777777778,
              "#fb9f3a"
             ],
             [
              0.8888888888888888,
              "#fdca26"
             ],
             [
              1,
              "#f0f921"
             ]
            ],
            "type": "histogram2dcontour"
           }
          ],
          "mesh3d": [
           {
            "colorbar": {
             "outlinewidth": 0,
             "ticks": ""
            },
            "type": "mesh3d"
           }
          ],
          "parcoords": [
           {
            "line": {
             "colorbar": {
              "outlinewidth": 0,
              "ticks": ""
             }
            },
            "type": "parcoords"
           }
          ],
          "pie": [
           {
            "automargin": true,
            "type": "pie"
           }
          ],
          "scatter": [
           {
            "fillpattern": {
             "fillmode": "overlay",
             "size": 10,
             "solidity": 0.2
            },
            "type": "scatter"
           }
          ],
          "scatter3d": [
           {
            "line": {
             "colorbar": {
              "outlinewidth": 0,
              "ticks": ""
             }
            },
            "marker": {
             "colorbar": {
              "outlinewidth": 0,
              "ticks": ""
             }
            },
            "type": "scatter3d"
           }
          ],
          "scattercarpet": [
           {
            "marker": {
             "colorbar": {
              "outlinewidth": 0,
              "ticks": ""
             }
            },
            "type": "scattercarpet"
           }
          ],
          "scattergeo": [
           {
            "marker": {
             "colorbar": {
              "outlinewidth": 0,
              "ticks": ""
             }
            },
            "type": "scattergeo"
           }
          ],
          "scattergl": [
           {
            "marker": {
             "colorbar": {
              "outlinewidth": 0,
              "ticks": ""
             }
            },
            "type": "scattergl"
           }
          ],
          "scattermapbox": [
           {
            "marker": {
             "colorbar": {
              "outlinewidth": 0,
              "ticks": ""
             }
            },
            "type": "scattermapbox"
           }
          ],
          "scatterpolar": [
           {
            "marker": {
             "colorbar": {
              "outlinewidth": 0,
              "ticks": ""
             }
            },
            "type": "scatterpolar"
           }
          ],
          "scatterpolargl": [
           {
            "marker": {
             "colorbar": {
              "outlinewidth": 0,
              "ticks": ""
             }
            },
            "type": "scatterpolargl"
           }
          ],
          "scatterternary": [
           {
            "marker": {
             "colorbar": {
              "outlinewidth": 0,
              "ticks": ""
             }
            },
            "type": "scatterternary"
           }
          ],
          "surface": [
           {
            "colorbar": {
             "outlinewidth": 0,
             "ticks": ""
            },
            "colorscale": [
             [
              0,
              "#0d0887"
             ],
             [
              0.1111111111111111,
              "#46039f"
             ],
             [
              0.2222222222222222,
              "#7201a8"
             ],
             [
              0.3333333333333333,
              "#9c179e"
             ],
             [
              0.4444444444444444,
              "#bd3786"
             ],
             [
              0.5555555555555556,
              "#d8576b"
             ],
             [
              0.6666666666666666,
              "#ed7953"
             ],
             [
              0.7777777777777778,
              "#fb9f3a"
             ],
             [
              0.8888888888888888,
              "#fdca26"
             ],
             [
              1,
              "#f0f921"
             ]
            ],
            "type": "surface"
           }
          ],
          "table": [
           {
            "cells": {
             "fill": {
              "color": "#EBF0F8"
             },
             "line": {
              "color": "white"
             }
            },
            "header": {
             "fill": {
              "color": "#C8D4E3"
             },
             "line": {
              "color": "white"
             }
            },
            "type": "table"
           }
          ]
         },
         "layout": {
          "annotationdefaults": {
           "arrowcolor": "#2a3f5f",
           "arrowhead": 0,
           "arrowwidth": 1
          },
          "autotypenumbers": "strict",
          "coloraxis": {
           "colorbar": {
            "outlinewidth": 0,
            "ticks": ""
           }
          },
          "colorscale": {
           "diverging": [
            [
             0,
             "#8e0152"
            ],
            [
             0.1,
             "#c51b7d"
            ],
            [
             0.2,
             "#de77ae"
            ],
            [
             0.3,
             "#f1b6da"
            ],
            [
             0.4,
             "#fde0ef"
            ],
            [
             0.5,
             "#f7f7f7"
            ],
            [
             0.6,
             "#e6f5d0"
            ],
            [
             0.7,
             "#b8e186"
            ],
            [
             0.8,
             "#7fbc41"
            ],
            [
             0.9,
             "#4d9221"
            ],
            [
             1,
             "#276419"
            ]
           ],
           "sequential": [
            [
             0,
             "#0d0887"
            ],
            [
             0.1111111111111111,
             "#46039f"
            ],
            [
             0.2222222222222222,
             "#7201a8"
            ],
            [
             0.3333333333333333,
             "#9c179e"
            ],
            [
             0.4444444444444444,
             "#bd3786"
            ],
            [
             0.5555555555555556,
             "#d8576b"
            ],
            [
             0.6666666666666666,
             "#ed7953"
            ],
            [
             0.7777777777777778,
             "#fb9f3a"
            ],
            [
             0.8888888888888888,
             "#fdca26"
            ],
            [
             1,
             "#f0f921"
            ]
           ],
           "sequentialminus": [
            [
             0,
             "#0d0887"
            ],
            [
             0.1111111111111111,
             "#46039f"
            ],
            [
             0.2222222222222222,
             "#7201a8"
            ],
            [
             0.3333333333333333,
             "#9c179e"
            ],
            [
             0.4444444444444444,
             "#bd3786"
            ],
            [
             0.5555555555555556,
             "#d8576b"
            ],
            [
             0.6666666666666666,
             "#ed7953"
            ],
            [
             0.7777777777777778,
             "#fb9f3a"
            ],
            [
             0.8888888888888888,
             "#fdca26"
            ],
            [
             1,
             "#f0f921"
            ]
           ]
          },
          "colorway": [
           "#636efa",
           "#EF553B",
           "#00cc96",
           "#ab63fa",
           "#FFA15A",
           "#19d3f3",
           "#FF6692",
           "#B6E880",
           "#FF97FF",
           "#FECB52"
          ],
          "font": {
           "color": "#2a3f5f"
          },
          "geo": {
           "bgcolor": "white",
           "lakecolor": "white",
           "landcolor": "#E5ECF6",
           "showlakes": true,
           "showland": true,
           "subunitcolor": "white"
          },
          "hoverlabel": {
           "align": "left"
          },
          "hovermode": "closest",
          "mapbox": {
           "style": "light"
          },
          "paper_bgcolor": "white",
          "plot_bgcolor": "#E5ECF6",
          "polar": {
           "angularaxis": {
            "gridcolor": "white",
            "linecolor": "white",
            "ticks": ""
           },
           "bgcolor": "#E5ECF6",
           "radialaxis": {
            "gridcolor": "white",
            "linecolor": "white",
            "ticks": ""
           }
          },
          "scene": {
           "xaxis": {
            "backgroundcolor": "#E5ECF6",
            "gridcolor": "white",
            "gridwidth": 2,
            "linecolor": "white",
            "showbackground": true,
            "ticks": "",
            "zerolinecolor": "white"
           },
           "yaxis": {
            "backgroundcolor": "#E5ECF6",
            "gridcolor": "white",
            "gridwidth": 2,
            "linecolor": "white",
            "showbackground": true,
            "ticks": "",
            "zerolinecolor": "white"
           },
           "zaxis": {
            "backgroundcolor": "#E5ECF6",
            "gridcolor": "white",
            "gridwidth": 2,
            "linecolor": "white",
            "showbackground": true,
            "ticks": "",
            "zerolinecolor": "white"
           }
          },
          "shapedefaults": {
           "line": {
            "color": "#2a3f5f"
           }
          },
          "ternary": {
           "aaxis": {
            "gridcolor": "white",
            "linecolor": "white",
            "ticks": ""
           },
           "baxis": {
            "gridcolor": "white",
            "linecolor": "white",
            "ticks": ""
           },
           "bgcolor": "#E5ECF6",
           "caxis": {
            "gridcolor": "white",
            "linecolor": "white",
            "ticks": ""
           }
          },
          "title": {
           "x": 0.05
          },
          "xaxis": {
           "automargin": true,
           "gridcolor": "white",
           "linecolor": "white",
           "ticks": "",
           "title": {
            "standoff": 15
           },
           "zerolinecolor": "white",
           "zerolinewidth": 2
          },
          "yaxis": {
           "automargin": true,
           "gridcolor": "white",
           "linecolor": "white",
           "ticks": "",
           "title": {
            "standoff": 15
           },
           "zerolinecolor": "white",
           "zerolinewidth": 2
          }
         }
        },
        "title": {
         "text": "Estatísticas de conteúdo no bioRxiv"
        },
        "width": 1800,
        "xaxis": {
         "anchor": "y",
         "domain": [
          0,
          0.94
         ],
         "title": {
          "text": "Mês"
         }
        },
        "yaxis": {
         "anchor": "x",
         "domain": [
          0,
          1
         ],
         "range": [
          0,
          208997
         ],
         "title": {
          "text": "Quantidade acumulada de artigos"
         }
        },
        "yaxis2": {
         "anchor": "x",
         "overlaying": "y",
         "range": [
          0,
          4179.94
         ],
         "side": "right",
         "title": {
          "text": "Quantidades de artigos em cada mês"
         }
        }
       }
      }
     },
     "metadata": {},
     "output_type": "display_data"
    },
    {
     "data": {
      "application/vnd.plotly.v1+json": {
       "config": {
        "plotlyServerURL": "https://plot.ly"
       },
       "data": [
        {
         "name": "Resumo Cumulativo",
         "text": [
          0,
          0.03,
          0.13,
          0.26,
          0.3,
          0.34,
          0.41,
          0.5,
          0.57,
          0.65,
          0.75,
          0.86,
          0.96,
          1.07,
          1.2,
          1.33,
          1.48,
          1.65,
          1.86,
          2.02,
          2.21,
          2.41,
          2.59,
          2.84,
          3.11,
          3.43,
          3.73,
          4.19,
          4.63,
          5.19,
          5.93,
          6.85,
          7.58,
          8.32,
          9.15,
          9.95,
          10.77,
          11.68,
          12.64,
          13.58,
          14.74,
          15.81,
          17.09,
          18.28,
          19.54,
          20.82,
          22.52,
          24.42,
          26.31,
          27.96,
          29.59,
          31.33,
          33.56,
          35.68,
          38.2,
          40.69,
          43.52,
          47.32,
          50.66,
          53.67,
          56.29,
          58.98,
          62.31,
          65.37,
          68.85,
          72.19,
          75.76,
          79.46,
          83.64,
          87.97,
          92.18,
          98.25,
          102.95,
          107.67,
          113.94,
          121.11,
          128.67,
          136.31,
          144.7,
          152.42,
          159.49,
          166.94,
          174.93,
          181.59,
          188.33,
          194.69,
          202.41,
          209.6,
          217.95,
          225.16,
          231.92,
          239.07,
          245.98,
          253.98,
          261.45,
          268.39,
          274.6,
          281.77,
          289.5,
          296.58,
          304.08,
          311.26,
          318.4,
          324.77,
          331.41,
          337.83,
          345.1,
          353.49,
          361.69,
          368.22,
          375.27,
          382.07,
          389.24,
          396.21,
          402.57,
          408.74,
          414.9,
          421.48
         ],
         "textfont": {
          "size": 24
         },
         "textposition": "outside",
         "type": "bar",
         "x": [
          "2013-11-01",
          "2013-12-01",
          "2014-01-01",
          "2014-02-01",
          "2014-03-01",
          "2014-04-01",
          "2014-05-01",
          "2014-06-01",
          "2014-07-01",
          "2014-08-01",
          "2014-09-01",
          "2014-10-01",
          "2014-11-01",
          "2014-12-01",
          "2015-01-01",
          "2015-02-01",
          "2015-03-01",
          "2015-04-01",
          "2015-05-01",
          "2015-06-01",
          "2015-07-01",
          "2015-08-01",
          "2015-09-01",
          "2015-10-01",
          "2015-11-01",
          "2015-12-01",
          "2016-01-01",
          "2016-02-01",
          "2016-03-01",
          "2016-04-01",
          "2016-05-01",
          "2016-06-01",
          "2016-07-01",
          "2016-08-01",
          "2016-09-01",
          "2016-10-01",
          "2016-11-01",
          "2016-12-01",
          "2017-01-01",
          "2017-02-01",
          "2017-03-01",
          "2017-04-01",
          "2017-05-01",
          "2017-06-01",
          "2017-07-01",
          "2017-08-01",
          "2017-09-01",
          "2017-10-01",
          "2017-11-01",
          "2017-12-01",
          "2018-01-01",
          "2018-02-01",
          "2018-03-01",
          "2018-04-01",
          "2018-05-01",
          "2018-06-01",
          "2018-07-01",
          "2018-08-01",
          "2018-09-01",
          "2018-10-01",
          "2018-11-01",
          "2018-12-01",
          "2019-01-01",
          "2019-02-01",
          "2019-03-01",
          "2019-04-01",
          "2019-05-01",
          "2019-06-01",
          "2019-07-01",
          "2019-08-01",
          "2019-09-01",
          "2019-10-01",
          "2019-11-01",
          "2019-12-01",
          "2020-01-01",
          "2020-02-01",
          "2020-03-01",
          "2020-04-01",
          "2020-05-01",
          "2020-06-01",
          "2020-07-01",
          "2020-08-01",
          "2020-09-01",
          "2020-10-01",
          "2020-11-01",
          "2020-12-01",
          "2021-01-01",
          "2021-02-01",
          "2021-03-01",
          "2021-04-01",
          "2021-05-01",
          "2021-06-01",
          "2021-07-01",
          "2021-08-01",
          "2021-09-01",
          "2021-10-01",
          "2021-11-01",
          "2021-12-01",
          "2022-01-01",
          "2022-02-01",
          "2022-03-01",
          "2022-04-01",
          "2022-05-01",
          "2022-06-01",
          "2022-07-01",
          "2022-08-01",
          "2022-09-01",
          "2022-10-01",
          "2022-11-01",
          "2022-12-01",
          "2023-01-01",
          "2023-02-01",
          "2023-03-01",
          "2023-04-01",
          "2023-05-01",
          "2023-06-01",
          "2023-07-01",
          "2023-08-01"
         ],
         "y": [
          0,
          0.03,
          0.13,
          0.26,
          0.3,
          0.34,
          0.41,
          0.5,
          0.57,
          0.65,
          0.75,
          0.86,
          0.96,
          1.07,
          1.2,
          1.33,
          1.48,
          1.65,
          1.86,
          2.02,
          2.21,
          2.41,
          2.59,
          2.84,
          3.11,
          3.43,
          3.73,
          4.19,
          4.63,
          5.19,
          5.93,
          6.85,
          7.58,
          8.32,
          9.15,
          9.95,
          10.77,
          11.68,
          12.64,
          13.58,
          14.74,
          15.81,
          17.09,
          18.28,
          19.54,
          20.82,
          22.52,
          24.42,
          26.31,
          27.96,
          29.59,
          31.33,
          33.56,
          35.68,
          38.2,
          40.69,
          43.52,
          47.32,
          50.66,
          53.67,
          56.29,
          58.98,
          62.31,
          65.37,
          68.85,
          72.19,
          75.76,
          79.46,
          83.64,
          87.97,
          92.18,
          98.25,
          102.95,
          107.67,
          113.94,
          121.11,
          128.67,
          136.31,
          144.7,
          152.42,
          159.49,
          166.94,
          174.93,
          181.59,
          188.33,
          194.69,
          202.41,
          209.6,
          217.95,
          225.16,
          231.92,
          239.07,
          245.98,
          253.98,
          261.45,
          268.39,
          274.6,
          281.77,
          289.5,
          296.58,
          304.08,
          311.26,
          318.4,
          324.77,
          331.41,
          337.83,
          345.1,
          353.49,
          361.69,
          368.22,
          375.27,
          382.07,
          389.24,
          396.21,
          402.57,
          408.74,
          414.9,
          421.48
         ]
        },
        {
         "mode": "lines+markers+text",
         "name": "Visualizações de Resumo",
         "textfont": {
          "size": 40
         },
         "textposition": "top center",
         "type": "scatter",
         "x": [
          "2013-11-01",
          "2013-12-01",
          "2014-01-01",
          "2014-02-01",
          "2014-03-01",
          "2014-04-01",
          "2014-05-01",
          "2014-06-01",
          "2014-07-01",
          "2014-08-01",
          "2014-09-01",
          "2014-10-01",
          "2014-11-01",
          "2014-12-01",
          "2015-01-01",
          "2015-02-01",
          "2015-03-01",
          "2015-04-01",
          "2015-05-01",
          "2015-06-01",
          "2015-07-01",
          "2015-08-01",
          "2015-09-01",
          "2015-10-01",
          "2015-11-01",
          "2015-12-01",
          "2016-01-01",
          "2016-02-01",
          "2016-03-01",
          "2016-04-01",
          "2016-05-01",
          "2016-06-01",
          "2016-07-01",
          "2016-08-01",
          "2016-09-01",
          "2016-10-01",
          "2016-11-01",
          "2016-12-01",
          "2017-01-01",
          "2017-02-01",
          "2017-03-01",
          "2017-04-01",
          "2017-05-01",
          "2017-06-01",
          "2017-07-01",
          "2017-08-01",
          "2017-09-01",
          "2017-10-01",
          "2017-11-01",
          "2017-12-01",
          "2018-01-01",
          "2018-02-01",
          "2018-03-01",
          "2018-04-01",
          "2018-05-01",
          "2018-06-01",
          "2018-07-01",
          "2018-08-01",
          "2018-09-01",
          "2018-10-01",
          "2018-11-01",
          "2018-12-01",
          "2019-01-01",
          "2019-02-01",
          "2019-03-01",
          "2019-04-01",
          "2019-05-01",
          "2019-06-01",
          "2019-07-01",
          "2019-08-01",
          "2019-09-01",
          "2019-10-01",
          "2019-11-01",
          "2019-12-01",
          "2020-01-01",
          "2020-02-01",
          "2020-03-01",
          "2020-04-01",
          "2020-05-01",
          "2020-06-01",
          "2020-07-01",
          "2020-08-01",
          "2020-09-01",
          "2020-10-01",
          "2020-11-01",
          "2020-12-01",
          "2021-01-01",
          "2021-02-01",
          "2021-03-01",
          "2021-04-01",
          "2021-05-01",
          "2021-06-01",
          "2021-07-01",
          "2021-08-01",
          "2021-09-01",
          "2021-10-01",
          "2021-11-01",
          "2021-12-01",
          "2022-01-01",
          "2022-02-01",
          "2022-03-01",
          "2022-04-01",
          "2022-05-01",
          "2022-06-01",
          "2022-07-01",
          "2022-08-01",
          "2022-09-01",
          "2022-10-01",
          "2022-11-01",
          "2022-12-01",
          "2023-01-01",
          "2023-02-01",
          "2023-03-01",
          "2023-04-01",
          "2023-05-01",
          "2023-06-01",
          "2023-07-01",
          "2023-08-01"
         ],
         "y": [
          0,
          0.03,
          0.1,
          0.13,
          0.04,
          0.04,
          0.07,
          0.09,
          0.08,
          0.07,
          0.1,
          0.11,
          0.1,
          0.11,
          0.13,
          0.13,
          0.15,
          0.17,
          0.21,
          0.16,
          0.2,
          0.2,
          0.18,
          0.24,
          0.27,
          0.32,
          0.3,
          0.46,
          0.43,
          0.56,
          0.74,
          0.92,
          0.73,
          0.74,
          0.82,
          0.8,
          0.82,
          0.91,
          0.96,
          0.93,
          1.16,
          1.07,
          1.28,
          1.19,
          1.26,
          1.28,
          1.7,
          1.9,
          1.89,
          1.65,
          1.63,
          1.74,
          2.23,
          2.12,
          2.51,
          2.49,
          2.83,
          3.81,
          3.34,
          3.01,
          2.62,
          2.69,
          3.33,
          3.07,
          3.48,
          3.34,
          3.56,
          3.71,
          4.18,
          4.32,
          4.21,
          6.07,
          4.7,
          4.72,
          6.27,
          7.17,
          7.56,
          7.64,
          8.39,
          7.72,
          7.06,
          7.46,
          7.98,
          6.66,
          6.73,
          6.36,
          7.72,
          7.19,
          8.35,
          7.21,
          6.76,
          7.16,
          6.91,
          7.99,
          7.47,
          6.94,
          6.21,
          7.17,
          7.74,
          7.08,
          7.5,
          7.17,
          7.15,
          6.37,
          6.64,
          6.42,
          7.27,
          8.39,
          8.2,
          6.52,
          7.06,
          6.8,
          7.17,
          6.97,
          6.36,
          6.17,
          6.16,
          6.58
         ],
         "yaxis": "y2"
        }
       ],
       "layout": {
        "height": 800,
        "legend": {
         "x": 0.02,
         "y": 0.96
        },
        "template": {
         "data": {
          "bar": [
           {
            "error_x": {
             "color": "#2a3f5f"
            },
            "error_y": {
             "color": "#2a3f5f"
            },
            "marker": {
             "line": {
              "color": "#E5ECF6",
              "width": 0.5
             },
             "pattern": {
              "fillmode": "overlay",
              "size": 10,
              "solidity": 0.2
             }
            },
            "type": "bar"
           }
          ],
          "barpolar": [
           {
            "marker": {
             "line": {
              "color": "#E5ECF6",
              "width": 0.5
             },
             "pattern": {
              "fillmode": "overlay",
              "size": 10,
              "solidity": 0.2
             }
            },
            "type": "barpolar"
           }
          ],
          "carpet": [
           {
            "aaxis": {
             "endlinecolor": "#2a3f5f",
             "gridcolor": "white",
             "linecolor": "white",
             "minorgridcolor": "white",
             "startlinecolor": "#2a3f5f"
            },
            "baxis": {
             "endlinecolor": "#2a3f5f",
             "gridcolor": "white",
             "linecolor": "white",
             "minorgridcolor": "white",
             "startlinecolor": "#2a3f5f"
            },
            "type": "carpet"
           }
          ],
          "choropleth": [
           {
            "colorbar": {
             "outlinewidth": 0,
             "ticks": ""
            },
            "type": "choropleth"
           }
          ],
          "contour": [
           {
            "colorbar": {
             "outlinewidth": 0,
             "ticks": ""
            },
            "colorscale": [
             [
              0,
              "#0d0887"
             ],
             [
              0.1111111111111111,
              "#46039f"
             ],
             [
              0.2222222222222222,
              "#7201a8"
             ],
             [
              0.3333333333333333,
              "#9c179e"
             ],
             [
              0.4444444444444444,
              "#bd3786"
             ],
             [
              0.5555555555555556,
              "#d8576b"
             ],
             [
              0.6666666666666666,
              "#ed7953"
             ],
             [
              0.7777777777777778,
              "#fb9f3a"
             ],
             [
              0.8888888888888888,
              "#fdca26"
             ],
             [
              1,
              "#f0f921"
             ]
            ],
            "type": "contour"
           }
          ],
          "contourcarpet": [
           {
            "colorbar": {
             "outlinewidth": 0,
             "ticks": ""
            },
            "type": "contourcarpet"
           }
          ],
          "heatmap": [
           {
            "colorbar": {
             "outlinewidth": 0,
             "ticks": ""
            },
            "colorscale": [
             [
              0,
              "#0d0887"
             ],
             [
              0.1111111111111111,
              "#46039f"
             ],
             [
              0.2222222222222222,
              "#7201a8"
             ],
             [
              0.3333333333333333,
              "#9c179e"
             ],
             [
              0.4444444444444444,
              "#bd3786"
             ],
             [
              0.5555555555555556,
              "#d8576b"
             ],
             [
              0.6666666666666666,
              "#ed7953"
             ],
             [
              0.7777777777777778,
              "#fb9f3a"
             ],
             [
              0.8888888888888888,
              "#fdca26"
             ],
             [
              1,
              "#f0f921"
             ]
            ],
            "type": "heatmap"
           }
          ],
          "heatmapgl": [
           {
            "colorbar": {
             "outlinewidth": 0,
             "ticks": ""
            },
            "colorscale": [
             [
              0,
              "#0d0887"
             ],
             [
              0.1111111111111111,
              "#46039f"
             ],
             [
              0.2222222222222222,
              "#7201a8"
             ],
             [
              0.3333333333333333,
              "#9c179e"
             ],
             [
              0.4444444444444444,
              "#bd3786"
             ],
             [
              0.5555555555555556,
              "#d8576b"
             ],
             [
              0.6666666666666666,
              "#ed7953"
             ],
             [
              0.7777777777777778,
              "#fb9f3a"
             ],
             [
              0.8888888888888888,
              "#fdca26"
             ],
             [
              1,
              "#f0f921"
             ]
            ],
            "type": "heatmapgl"
           }
          ],
          "histogram": [
           {
            "marker": {
             "pattern": {
              "fillmode": "overlay",
              "size": 10,
              "solidity": 0.2
             }
            },
            "type": "histogram"
           }
          ],
          "histogram2d": [
           {
            "colorbar": {
             "outlinewidth": 0,
             "ticks": ""
            },
            "colorscale": [
             [
              0,
              "#0d0887"
             ],
             [
              0.1111111111111111,
              "#46039f"
             ],
             [
              0.2222222222222222,
              "#7201a8"
             ],
             [
              0.3333333333333333,
              "#9c179e"
             ],
             [
              0.4444444444444444,
              "#bd3786"
             ],
             [
              0.5555555555555556,
              "#d8576b"
             ],
             [
              0.6666666666666666,
              "#ed7953"
             ],
             [
              0.7777777777777778,
              "#fb9f3a"
             ],
             [
              0.8888888888888888,
              "#fdca26"
             ],
             [
              1,
              "#f0f921"
             ]
            ],
            "type": "histogram2d"
           }
          ],
          "histogram2dcontour": [
           {
            "colorbar": {
             "outlinewidth": 0,
             "ticks": ""
            },
            "colorscale": [
             [
              0,
              "#0d0887"
             ],
             [
              0.1111111111111111,
              "#46039f"
             ],
             [
              0.2222222222222222,
              "#7201a8"
             ],
             [
              0.3333333333333333,
              "#9c179e"
             ],
             [
              0.4444444444444444,
              "#bd3786"
             ],
             [
              0.5555555555555556,
              "#d8576b"
             ],
             [
              0.6666666666666666,
              "#ed7953"
             ],
             [
              0.7777777777777778,
              "#fb9f3a"
             ],
             [
              0.8888888888888888,
              "#fdca26"
             ],
             [
              1,
              "#f0f921"
             ]
            ],
            "type": "histogram2dcontour"
           }
          ],
          "mesh3d": [
           {
            "colorbar": {
             "outlinewidth": 0,
             "ticks": ""
            },
            "type": "mesh3d"
           }
          ],
          "parcoords": [
           {
            "line": {
             "colorbar": {
              "outlinewidth": 0,
              "ticks": ""
             }
            },
            "type": "parcoords"
           }
          ],
          "pie": [
           {
            "automargin": true,
            "type": "pie"
           }
          ],
          "scatter": [
           {
            "fillpattern": {
             "fillmode": "overlay",
             "size": 10,
             "solidity": 0.2
            },
            "type": "scatter"
           }
          ],
          "scatter3d": [
           {
            "line": {
             "colorbar": {
              "outlinewidth": 0,
              "ticks": ""
             }
            },
            "marker": {
             "colorbar": {
              "outlinewidth": 0,
              "ticks": ""
             }
            },
            "type": "scatter3d"
           }
          ],
          "scattercarpet": [
           {
            "marker": {
             "colorbar": {
              "outlinewidth": 0,
              "ticks": ""
             }
            },
            "type": "scattercarpet"
           }
          ],
          "scattergeo": [
           {
            "marker": {
             "colorbar": {
              "outlinewidth": 0,
              "ticks": ""
             }
            },
            "type": "scattergeo"
           }
          ],
          "scattergl": [
           {
            "marker": {
             "colorbar": {
              "outlinewidth": 0,
              "ticks": ""
             }
            },
            "type": "scattergl"
           }
          ],
          "scattermapbox": [
           {
            "marker": {
             "colorbar": {
              "outlinewidth": 0,
              "ticks": ""
             }
            },
            "type": "scattermapbox"
           }
          ],
          "scatterpolar": [
           {
            "marker": {
             "colorbar": {
              "outlinewidth": 0,
              "ticks": ""
             }
            },
            "type": "scatterpolar"
           }
          ],
          "scatterpolargl": [
           {
            "marker": {
             "colorbar": {
              "outlinewidth": 0,
              "ticks": ""
             }
            },
            "type": "scatterpolargl"
           }
          ],
          "scatterternary": [
           {
            "marker": {
             "colorbar": {
              "outlinewidth": 0,
              "ticks": ""
             }
            },
            "type": "scatterternary"
           }
          ],
          "surface": [
           {
            "colorbar": {
             "outlinewidth": 0,
             "ticks": ""
            },
            "colorscale": [
             [
              0,
              "#0d0887"
             ],
             [
              0.1111111111111111,
              "#46039f"
             ],
             [
              0.2222222222222222,
              "#7201a8"
             ],
             [
              0.3333333333333333,
              "#9c179e"
             ],
             [
              0.4444444444444444,
              "#bd3786"
             ],
             [
              0.5555555555555556,
              "#d8576b"
             ],
             [
              0.6666666666666666,
              "#ed7953"
             ],
             [
              0.7777777777777778,
              "#fb9f3a"
             ],
             [
              0.8888888888888888,
              "#fdca26"
             ],
             [
              1,
              "#f0f921"
             ]
            ],
            "type": "surface"
           }
          ],
          "table": [
           {
            "cells": {
             "fill": {
              "color": "#EBF0F8"
             },
             "line": {
              "color": "white"
             }
            },
            "header": {
             "fill": {
              "color": "#C8D4E3"
             },
             "line": {
              "color": "white"
             }
            },
            "type": "table"
           }
          ]
         },
         "layout": {
          "annotationdefaults": {
           "arrowcolor": "#2a3f5f",
           "arrowhead": 0,
           "arrowwidth": 1
          },
          "autotypenumbers": "strict",
          "coloraxis": {
           "colorbar": {
            "outlinewidth": 0,
            "ticks": ""
           }
          },
          "colorscale": {
           "diverging": [
            [
             0,
             "#8e0152"
            ],
            [
             0.1,
             "#c51b7d"
            ],
            [
             0.2,
             "#de77ae"
            ],
            [
             0.3,
             "#f1b6da"
            ],
            [
             0.4,
             "#fde0ef"
            ],
            [
             0.5,
             "#f7f7f7"
            ],
            [
             0.6,
             "#e6f5d0"
            ],
            [
             0.7,
             "#b8e186"
            ],
            [
             0.8,
             "#7fbc41"
            ],
            [
             0.9,
             "#4d9221"
            ],
            [
             1,
             "#276419"
            ]
           ],
           "sequential": [
            [
             0,
             "#0d0887"
            ],
            [
             0.1111111111111111,
             "#46039f"
            ],
            [
             0.2222222222222222,
             "#7201a8"
            ],
            [
             0.3333333333333333,
             "#9c179e"
            ],
            [
             0.4444444444444444,
             "#bd3786"
            ],
            [
             0.5555555555555556,
             "#d8576b"
            ],
            [
             0.6666666666666666,
             "#ed7953"
            ],
            [
             0.7777777777777778,
             "#fb9f3a"
            ],
            [
             0.8888888888888888,
             "#fdca26"
            ],
            [
             1,
             "#f0f921"
            ]
           ],
           "sequentialminus": [
            [
             0,
             "#0d0887"
            ],
            [
             0.1111111111111111,
             "#46039f"
            ],
            [
             0.2222222222222222,
             "#7201a8"
            ],
            [
             0.3333333333333333,
             "#9c179e"
            ],
            [
             0.4444444444444444,
             "#bd3786"
            ],
            [
             0.5555555555555556,
             "#d8576b"
            ],
            [
             0.6666666666666666,
             "#ed7953"
            ],
            [
             0.7777777777777778,
             "#fb9f3a"
            ],
            [
             0.8888888888888888,
             "#fdca26"
            ],
            [
             1,
             "#f0f921"
            ]
           ]
          },
          "colorway": [
           "#636efa",
           "#EF553B",
           "#00cc96",
           "#ab63fa",
           "#FFA15A",
           "#19d3f3",
           "#FF6692",
           "#B6E880",
           "#FF97FF",
           "#FECB52"
          ],
          "font": {
           "color": "#2a3f5f"
          },
          "geo": {
           "bgcolor": "white",
           "lakecolor": "white",
           "landcolor": "#E5ECF6",
           "showlakes": true,
           "showland": true,
           "subunitcolor": "white"
          },
          "hoverlabel": {
           "align": "left"
          },
          "hovermode": "closest",
          "mapbox": {
           "style": "light"
          },
          "paper_bgcolor": "white",
          "plot_bgcolor": "#E5ECF6",
          "polar": {
           "angularaxis": {
            "gridcolor": "white",
            "linecolor": "white",
            "ticks": ""
           },
           "bgcolor": "#E5ECF6",
           "radialaxis": {
            "gridcolor": "white",
            "linecolor": "white",
            "ticks": ""
           }
          },
          "scene": {
           "xaxis": {
            "backgroundcolor": "#E5ECF6",
            "gridcolor": "white",
            "gridwidth": 2,
            "linecolor": "white",
            "showbackground": true,
            "ticks": "",
            "zerolinecolor": "white"
           },
           "yaxis": {
            "backgroundcolor": "#E5ECF6",
            "gridcolor": "white",
            "gridwidth": 2,
            "linecolor": "white",
            "showbackground": true,
            "ticks": "",
            "zerolinecolor": "white"
           },
           "zaxis": {
            "backgroundcolor": "#E5ECF6",
            "gridcolor": "white",
            "gridwidth": 2,
            "linecolor": "white",
            "showbackground": true,
            "ticks": "",
            "zerolinecolor": "white"
           }
          },
          "shapedefaults": {
           "line": {
            "color": "#2a3f5f"
           }
          },
          "ternary": {
           "aaxis": {
            "gridcolor": "white",
            "linecolor": "white",
            "ticks": ""
           },
           "baxis": {
            "gridcolor": "white",
            "linecolor": "white",
            "ticks": ""
           },
           "bgcolor": "#E5ECF6",
           "caxis": {
            "gridcolor": "white",
            "linecolor": "white",
            "ticks": ""
           }
          },
          "title": {
           "x": 0.05
          },
          "xaxis": {
           "automargin": true,
           "gridcolor": "white",
           "linecolor": "white",
           "ticks": "",
           "title": {
            "standoff": 15
           },
           "zerolinecolor": "white",
           "zerolinewidth": 2
          },
          "yaxis": {
           "automargin": true,
           "gridcolor": "white",
           "linecolor": "white",
           "ticks": "",
           "title": {
            "standoff": 15
           },
           "zerolinecolor": "white",
           "zerolinewidth": 2
          }
         }
        },
        "title": {
         "text": "Estatísticas de uso do bioRxiv"
        },
        "width": 1800,
        "xaxis": {
         "anchor": "y",
         "domain": [
          0,
          0.94
         ],
         "title": {
          "text": "Mês"
         }
        },
        "yaxis": {
         "anchor": "x",
         "domain": [
          0,
          1
         ],
         "range": [
          0,
          451.48
         ],
         "title": {
          "text": "Milhões de resumos acumulados"
         }
        },
        "yaxis2": {
         "anchor": "x",
         "overlaying": "y",
         "range": [
          0,
          9.0296
         ],
         "side": "right",
         "title": {
          "text": "Milhões de visualizações por mês"
         }
        }
       }
      }
     },
     "metadata": {},
     "output_type": "display_data"
    }
   ],
   "source": [
    "plot_content_statistics(content_summary_data)\n",
    "plot_usage_statistics(usage_summary_data)"
   ]
  },
  {
   "cell_type": "code",
   "execution_count": 10,
   "metadata": {},
   "outputs": [],
   "source": [
    "## Matplotlib\n",
    "# def plot_usage_statistics_simple(data):\n",
    "#     # Extrair os valores relevantes dos dados\n",
    "#     months = [entry['month'] for entry in data['bioRxiv content statistics']]\n",
    "#     abstract_views = [int(entry['abstract_views']) for entry in data['bioRxiv content statistics']]\n",
    "#     pdf_downloads = [int(entry['pdf_downloads']) for entry in data['bioRxiv content statistics']]\n",
    "\n",
    "#     # Criar um gráfico de linha\n",
    "#     plt.figure(figsize=(18, 9))\n",
    "#     plt.plot(months, abstract_views, label='Visualizações de Resumo de Conteúdo', marker='o', linestyle='-', color='b')\n",
    "#     plt.plot(months, pdf_downloads, label='Downloads de PDF', marker='s', linestyle='--', color='r')\n",
    "\n",
    "#     # Configurar rótulos e título\n",
    "#     plt.xlabel('Mês')\n",
    "#     plt.ylabel('Contagem')\n",
    "#     plt.title('Estatísticas de Uso do bioRxiv')\n",
    "#     plt.xticks(rotation=45, fontsize=8)  # Rotação dos rótulos do eixo x para melhor legibilidade\n",
    "#     plt.grid(True)\n",
    "\n",
    "#     # Adicionar legenda\n",
    "#     plt.legend()\n",
    "\n",
    "#     # Exibir o gráfico\n",
    "#     plt.tight_layout()\n",
    "#     plt.show()\n",
    "\n",
    "# # Exemplo de uso com os dados fornecidos\n",
    "# usage_data = fetch_usage_summary_statistics()\n",
    "\n",
    "# plot_usage_statistics(usage_data)"
   ]
  }
 ],
 "metadata": {
  "kernelspec": {
   "display_name": "beakerx",
   "language": "python",
   "name": "python3"
  },
  "language_info": {
   "codemirror_mode": {
    "name": "ipython",
    "version": 3
   },
   "file_extension": ".py",
   "mimetype": "text/x-python",
   "name": "python",
   "nbconvert_exporter": "python",
   "pygments_lexer": "ipython3",
   "version": "3.11.2"
  }
 },
 "nbformat": 4,
 "nbformat_minor": 2
}
