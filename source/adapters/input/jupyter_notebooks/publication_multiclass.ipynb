{
 "cells": [
  {
   "cell_type": "markdown",
   "metadata": {},
   "source": [
    "O conjunto de dados Cora é comumente usado em tarefas de classificação de documentos. Ele é composto por citações científicas e cada documento é representado como uma bag-of-words binária. O desafio com Cora é que ele não é um modelo de embeddings de palavras, como o GloVe ou o FastText. Em vez disso, é um conjunto de dados de documentos.\n",
    "\n",
    "Se você deseja usar o conjunto de dados Cora para criar embeddings, você terá que treinar um modelo nele. Uma abordagem popular para isso é usar o método Graph Neural Networks (GNNs) ou Graph Convolutional Networks (GCNs) para aprender representações vetoriais dos documentos.\n",
    "\n",
    "Passos principais:\n",
    "\n",
    "    Carregar o conjunto de dados Cora: Isso envolve carregar os documentos e o gráfico de citação.\n",
    "\n",
    "    Treinar um GCN: Usando o gráfico de citação e os recursos dos documentos (bag-of-words binária), você pode treinar um GCN para aprender embeddings para cada documento.\n",
    "\n",
    "    Gerar Embeddings para Títulos: Depois de treinar o GCN, você pode usá-lo para gerar embeddings para qualquer documento no conjunto de dados Cora.\n",
    "\n",
    "Para implementar um GCN com PyTorch, você provavelmente usaria uma biblioteca como o PyTorch Geometric. Treinar um GCN é um processo mais envolvido do que simplesmente carregar embeddings pré-treinados como o GloVe."
   ]
  },
  {
   "cell_type": "markdown",
   "metadata": {},
   "source": [
    "# Instalando o PyTorch Geometric"
   ]
  },
  {
   "cell_type": "code",
   "execution_count": null,
   "metadata": {},
   "outputs": [],
   "source": [
    "# !python -m venv pytorch\n",
    "# !pytorch\\Scripts\\activate\n",
    "\n",
    "# pip3 install torch torchvision torchaudio --index-url https://download.pytorch.org/whl/cu118\n",
    "# !pip install torch-scatter -f https://pytorch-geometric.com/whl/torch-2.0.0+cu118.html\n",
    "# !pip install torch-sparse -f https://pytorch-geometric.com/whl/torch-2.0.0+cu118.html\n",
    "# !pip install torch-cluster -f https://pytorch-geometric.com/whl/torch-2.0.0+cu118.html\n",
    "# !pip install torch-spline-conv -f https://pytorch-geometric.com/whl/torch-2.0.0+cu118.html\n",
    "\n",
    "# !pip install torch-geometric"
   ]
  },
  {
   "cell_type": "code",
   "execution_count": null,
   "metadata": {},
   "outputs": [],
   "source": [
    "# import runpy\n",
    "\n",
    "# # Carrega as funções diretamente do arquivo pytorch_checks.py\n",
    "# check_pytorch = runpy.run_path('../../../../utils/pytorch_checks.py')['check_pytorch']\n",
    "# check_gpu = runpy.run_path('../../../../utils/pytorch_checks.py')['check_gpu']\n"
   ]
  },
  {
   "cell_type": "code",
   "execution_count": null,
   "metadata": {},
   "outputs": [],
   "source": [
    "# import importlib.util\n",
    "\n",
    "# # Especifique o caminho completo para o arquivo pytorch_checks.py\n",
    "# path = '../../../../utils/pytorch_checks.py'\n",
    "\n",
    "# # Carrega as funções diretamente do arquivo pytorch_checks.py\n",
    "# spec = importlib.util.spec_from_file_location(\"pytorch_checks\", path)\n",
    "# pytorch_checks = importlib.util.module_from_spec(spec)\n",
    "# spec.loader.exec_module(pytorch_checks)\n",
    "\n",
    "# check_pytorch = pytorch_checks.check_pytorch\n",
    "# check_gpu = pytorch_checks.check_gpu"
   ]
  },
  {
   "cell_type": "markdown",
   "metadata": {},
   "source": [
    "# Avaliando instalação PyTorch e GPU"
   ]
  },
  {
   "cell_type": "code",
   "execution_count": null,
   "metadata": {},
   "outputs": [],
   "source": [
    "import sys\n",
    "sys.path.append('../../../../utils')\n",
    "sys.path.append('../../../../source/adapters/input/data/')\n",
    "\n",
    "from pytorch_checks import check_pytorch, check_gpu, try_amb, try_gpu\n",
    "\n",
    "try_amb()\n",
    "check_pytorch()\n",
    "check_gpu()\n",
    "!nvcc -V"
   ]
  },
  {
   "cell_type": "markdown",
   "metadata": {},
   "source": [
    "# Conjunto de dados Cora\n",
    "O conjunto de dados Cora é um conjunto de dados bem conhecido no campo da pesquisa de grafos. Este consiste em 2708 publicações científicas classificadas em uma das sete classes. A rede de citações consiste em 5429 links. Cada publicação no conjunto de dados é descrita por um vetor de palavra com valor 0/1 indicando a ausência/presença da palavra correspondente no dicionário. O dicionário consiste em 1433 palavras únicas."
   ]
  },
  {
   "cell_type": "code",
   "execution_count": null,
   "metadata": {},
   "outputs": [],
   "source": [
    "import torch\n",
    "import torch.nn.functional as F\n",
    "from torch_geometric.datasets import Planetoid\n",
    "import torch_geometric.transforms as T\n",
    "from torch_geometric.nn import GCNConv\n",
    "\n",
    "# Carregando o conjunto de dados Cora\n",
    "dataset = Planetoid(root='/tmp/Cora', name='Cora', transform=T.NormalizeFeatures())\n",
    "\n",
    "# Informações básicas sobre o conjunto de dados\n",
    "print(\"Número de classes:\", dataset.num_classes)\n",
    "print(\"Número de recursos por nó:\", dataset.num_node_features)\n",
    "print(\"Número de nós no conjunto de treinamento:\", len(dataset[0].y))\n",
    "print(\"Número de arestas no conjunto de treinamento:\", dataset[0].edge_index.shape[1])\n",
    "\n",
    "# https://keras.io/examples/graph/gnn_citations/\n",
    "\n",
    "label_dict = {\n",
    "    0: \"Theory\",\n",
    "    1: \"Reinforcement_Learning\",\n",
    "    2: \"Genetic_Algorithms\",\n",
    "    3: \"Neural_Networks\",\n",
    "    4: \"Probabilistic_Methods\",\n",
    "    5: \"Case_Based\",\n",
    "    6: \"Rule_Learning\"}"
   ]
  },
  {
   "cell_type": "code",
   "execution_count": null,
   "metadata": {},
   "outputs": [],
   "source": [
    "import numpy as np\n",
    "# Exibindo as classes do conjunto de dados\n",
    "data = dataset[0]\n",
    "\n",
    "unique_classes = np.unique(data.y.numpy())\n",
    "print(\"Classes presentes no conjunto de dados Cora:\")\n",
    "print(unique_classes)\n",
    "data.y[:15]"
   ]
  },
  {
   "cell_type": "code",
   "execution_count": null,
   "metadata": {},
   "outputs": [],
   "source": [
    "import collections\n",
    "import matplotlib.pyplot as plt\n",
    "import seaborn as sns\n",
    "\n",
    "counter = collections.Counter(data.y.numpy())\n",
    "counter = dict(counter)\n",
    "print(counter)\n",
    "count = [x[1] for x in sorted(counter.items())]\n",
    "plt.figure(figsize=(15, 5))\n",
    "plt.bar(range(7), count)\n",
    "plt.xlabel(\"class\", size=20)\n",
    "plt.show()"
   ]
  },
  {
   "cell_type": "markdown",
   "metadata": {},
   "source": [
    "## Grafo do Cora Dataset"
   ]
  },
  {
   "cell_type": "code",
   "execution_count": null,
   "metadata": {},
   "outputs": [],
   "source": [
    "print(f'Número de nós: {data.num_nodes}')\n",
    "print(f'Número de arestas: {data.num_edges}') \n",
    "\n",
    "print(f'Tem nós isolados: {data.has_isolated_nodes()}') # False \n",
    "print(f'Tem auto-loops: {data.has_self_loops()}') # False \n",
    "print(f'É não direcionado: {data.is_undirected ()}') # Verdadeiro\n",
    "\n",
    "print(f'Grau médio: {data.num_edges / data.num_nodes:.2f}') \n",
    "# Average node degree: 3.90"
   ]
  },
  {
   "cell_type": "code",
   "execution_count": null,
   "metadata": {},
   "outputs": [],
   "source": [
    "edge_index = data.edge_index.numpy() \n",
    "print(edge_index.shape) \n",
    "edge_example = edge_index[:, np.where(edge_index[0]==30)[0]] \n",
    "edge_example"
   ]
  },
  {
   "cell_type": "code",
   "execution_count": null,
   "metadata": {},
   "outputs": [],
   "source": [
    "import networkx as nx\n",
    "\n",
    "node_example = np.unique(edge_example.flatten())\n",
    "plt.figure(figsize=(10, 6)) \n",
    "G = nx.Graph() \n",
    "G.add_nodes_from(node_example) \n",
    "G.add_edges_from(list(zip(edge_example[0], edge_example[1]))) \n",
    "nx.draw_networkx(G , with_labels=False)"
   ]
  },
  {
   "cell_type": "code",
   "execution_count": null,
   "metadata": {},
   "outputs": [],
   "source": [
    "import pandas as pd\n",
    "from torch_geometric.utils import to_networkx\n",
    "\n",
    "# import torch\n",
    "# from torch import Tensor\n",
    "# import torch_geometric\n",
    "# from torch_geometric.datasets import Planetoid\n",
    "\n",
    "G = to_networkx(data, to_undirected=True)\n",
    "degrees = [val for (node, val) in G.degree()]\n",
    "display(pd.DataFrame(pd.Series(degrees).describe()).transpose().round(2))\n",
    "print(len(degrees))\n",
    "print(sum(degrees))\n",
    "plt.figure(figsize=(15, 5))\n",
    "plt.hist(degrees, bins=50)\n",
    "plt.xlabel(\"node degree\")\n",
    "plt.show()"
   ]
  },
  {
   "cell_type": "code",
   "execution_count": null,
   "metadata": {},
   "outputs": [],
   "source": [
    "G = to_networkx(data, to_undirected=True)\n",
    "pos = nx.spring_layout(G, seed=42)\n",
    "cent = nx.degree_centrality(G)\n",
    "node_size = list(map(lambda x: x * 500, cent.values()))\n",
    "cent_array = np.array(list(cent.values()))\n",
    "threshold = sorted(cent_array, reverse=True)[10]\n",
    "print(\"threshold\", threshold)\n",
    "cent_bin = np.where(cent_array >= threshold, 1, 0.1)\n",
    "plt.figure(figsize=(12, 12))\n",
    "nodes = nx.draw_networkx_nodes(G, pos, node_size=node_size,\n",
    "                               cmap=plt.cm.plasma,\n",
    "                               node_color=cent_bin,\n",
    "                               nodelist=list(cent.keys()),\n",
    "                               alpha=cent_bin)\n",
    "edges = nx.draw_networkx_edges(G, pos, width=0.25, alpha=0.3)\n",
    "plt.show()"
   ]
  },
  {
   "cell_type": "markdown",
   "metadata": {},
   "source": [
    "# Rede Neural em Grafos"
   ]
  },
  {
   "cell_type": "markdown",
   "metadata": {},
   "source": [
    "## Carregando o Dataset"
   ]
  },
  {
   "cell_type": "code",
   "execution_count": 1,
   "metadata": {},
   "outputs": [],
   "source": [
    "from torch_geometric.datasets import Planetoid\n",
    "import torch_geometric.transforms as T\n",
    "\n",
    "# Carregando o conjunto de dados Cora\n",
    "dataset = Planetoid(root='/tmp/Cora', name='Cora', transform=T.NormalizeFeatures())"
   ]
  },
  {
   "cell_type": "markdown",
   "metadata": {},
   "source": [
    "## Criado a classe para o modelo com PyTorch"
   ]
  },
  {
   "cell_type": "code",
   "execution_count": 2,
   "metadata": {},
   "outputs": [],
   "source": [
    "import torch\n",
    "import matplotlib.pyplot as plt\n",
    "from torch_geometric.nn import GCNConv\n",
    "from IPython.display import clear_output\n",
    "\n",
    "# Classe de definição do modelo de Rede Neural Convolucional\n",
    "class GCN(torch.nn.Module):\n",
    "    def __init__(self):\n",
    "        super(GCN, self).__init__()\n",
    "        self.conv1 = GCNConv(dataset.num_features, 16)\n",
    "        self.conv2 = GCNConv(16, dataset.num_classes)\n",
    "\n",
    "    def forward(self, data):\n",
    "        x, edge_index = data.x, data.edge_index\n",
    "\n",
    "        x = self.conv1(x, edge_index)\n",
    "        x = F.relu(x)\n",
    "        x = F.dropout(x, training=self.training)\n",
    "        x = self.conv2(x, edge_index)\n",
    "\n",
    "        return F.log_softmax(x, dim=1)\n",
    "\n",
    "\n",
    "# Função de avaliação do modelo\n",
    "def evaluate(model, data):\n",
    "    model.eval()\n",
    "    with torch.no_grad():\n",
    "        out     = model(data)\n",
    "        pred    = out.argmax(dim=1)\n",
    "        correct = pred[data.test_mask].eq(data.y[data.test_mask]).sum().item()\n",
    "        acc     = correct / data.test_mask.sum().item()\n",
    "    return acc\n",
    "\n",
    "# Função para plotagem iterativa do loop de aprendizado\n",
    "def plot_learning_curve(train_losses, val_losses, val_accuracies):\n",
    "    epochs = range(0, len(train_losses))\n",
    "\n",
    "    plt.figure(figsize=(12, 4))\n",
    "\n",
    "    # Plot da perda de treinamento e validação\n",
    "    plt.subplot(1, 2, 1)\n",
    "    plt.plot(epochs, train_losses, label='Train Loss')\n",
    "    plt.plot(epochs, val_losses, label='Validation Loss')\n",
    "    plt.xlabel('Epochs')\n",
    "    plt.ylabel('Loss')\n",
    "    plt.title('Learning Curve - Loss')\n",
    "    plt.legend()\n",
    "\n",
    "    # Plot da acurácia de validação\n",
    "    plt.subplot(1, 2, 2)\n",
    "    plt.plot(epochs, val_accuracies, label='Validation Accuracy', color='green')\n",
    "    plt.xlabel('Epochs')\n",
    "    plt.ylabel('Accuracy')\n",
    "    plt.title('Learning Curve - Validation Accuracy')\n",
    "    plt.legend()\n",
    "\n",
    "    plt.tight_layout()"
   ]
  },
  {
   "cell_type": "code",
   "execution_count": 3,
   "metadata": {},
   "outputs": [
    {
     "data": {
      "text/plain": [
       "GCN(\n",
       "  (conv1): GCNConv(1433, 16)\n",
       "  (conv2): GCNConv(16, 7)\n",
       ")"
      ]
     },
     "execution_count": 3,
     "metadata": {},
     "output_type": "execute_result"
    }
   ],
   "source": [
    "# Atribuir o processamento para a GPU, caso disponível\n",
    "device    = torch.device('cuda' if torch.cuda.is_available() else 'cpu')\n",
    "\n",
    "# Criar a instância do modelo\n",
    "model     = GCN().to(device)\n",
    "\n",
    "# Atribuir os dados ao dispositivo\n",
    "data      = dataset[0].to(device)\n",
    "\n",
    "# Definir o otimizador\n",
    "optimizer = torch.optim.Adam(model.parameters(), lr=0.01, weight_decay=5e-4)\n",
    "\n",
    "# Treinar o modelo\n",
    "model.train()"
   ]
  },
  {
   "cell_type": "markdown",
   "metadata": {},
   "source": [
    "# Treinar o modelo nos dados desejados"
   ]
  },
  {
   "cell_type": "code",
   "execution_count": 4,
   "metadata": {},
   "outputs": [
    {
     "data": {
      "image/png": "[encoded data removed]",
      "text/plain": [
       "<Figure size 1200x400 with 2 Axes>"
      ]
     },
     "metadata": {},
     "output_type": "display_data"
    },
    {
     "name": "stdout",
     "output_type": "stream",
     "text": [
      "Epoch 190, Loss: 0.2183, Accuracy: 0.8150\n"
     ]
    }
   ],
   "source": [
    "import torch.nn.functional as F\n",
    "\n",
    "train_losses   = []\n",
    "val_losses     = []\n",
    "val_accuracies = []\n",
    "\n",
    "# Loop de treinamento\n",
    "for epoch in range(200):\n",
    "    optimizer.zero_grad()\n",
    "    out = model(data)\n",
    "    loss = F.nll_loss(out[data.train_mask], data.y[data.train_mask])\n",
    "    loss.backward()\n",
    "    optimizer.step()\n",
    "\n",
    "    # Avaliar o desempenho do modelo durante o treinamento\n",
    "    if epoch % 10 == 0:\n",
    "        acc = evaluate(model, data)\n",
    "        train_losses.append(loss.item())\n",
    "        val_loss = F.nll_loss(out[data.test_mask], data.y[data.test_mask])\n",
    "        val_losses.append(val_loss.item())\n",
    "        val_accuracies.append(acc)\n",
    "        \n",
    "        # Plotar em tempo real\n",
    "        clear_output(wait=True)\n",
    "        plot_learning_curve(train_losses, val_losses, val_accuracies)\n",
    "        plt.show()\n",
    "\n",
    "        print(f'Epoch {epoch}, Loss: {loss.item():.4f}, Accuracy: {acc:.4f}')\n"
   ]
  },
  {
   "cell_type": "code",
   "execution_count": null,
   "metadata": {},
   "outputs": [],
   "source": [
    "# train_losses = []\n",
    "# val_losses = []\n",
    "# val_accuracies = []\n",
    "\n",
    "# # Loop de treinamento\n",
    "# for epoch in range(600):\n",
    "#     optimizer.zero_grad()\n",
    "#     out = model(data)\n",
    "#     loss = F.nll_loss(out[data.train_mask], data.y[data.train_mask])\n",
    "#     loss.backward()\n",
    "#     optimizer.step()\n",
    "\n",
    "#     # Avaliar o desempenho do modelo durante o treinamento\n",
    "#     if epoch % 10 == 0:\n",
    "#         acc = evaluate(model, data)\n",
    "#         train_losses.append(loss.item())\n",
    "#         val_loss = F.nll_loss(out[data.test_mask], data.y[data.test_mask])\n",
    "#         val_losses.append(val_loss.item())\n",
    "#         val_accuracies.append(acc)\n",
    "        \n",
    "#         # Plotar em tempo real\n",
    "#         clear_output(wait=True)\n",
    "#         plot_learning_curve(train_losses, val_losses, val_accuracies)\n",
    "#         plt.show()\n",
    "\n",
    "#         print(f'Epoch {epoch}, Loss: {loss.item():.4f}, Accuracy: {acc:.4f}')"
   ]
  },
  {
   "cell_type": "code",
   "execution_count": null,
   "metadata": {},
   "outputs": [],
   "source": [
    "import torch\n",
    "\n",
    "# Limpar a memória da GPU\n",
    "torch.cuda.empty_cache()"
   ]
  },
  {
   "cell_type": "code",
   "execution_count": null,
   "metadata": {},
   "outputs": [],
   "source": [
    "# from sklearn.metrics import roc_curve, auc\n",
    "# import matplotlib.pyplot as plt\n",
    "\n",
    "# # Exemplo de dados\n",
    "# y_true   = [0, 0, 1, 1, 1, 0, 1, 0, 1, 1]\n",
    "# y_scores = [0.1, 0.2, 0.7, 0.8, 0.6, 0.3, 0.5, 0.4, 0.9, 0.85]\n",
    "\n",
    "# # Calcula a curva ROC e a AUC\n",
    "# fpr, tpr, thresholds = roc_curve(y_true, y_scores)\n",
    "# roc_auc = auc(fpr, tpr)\n",
    "\n",
    "# # Plota a curva ROC\n",
    "# plt.figure(figsize=(8, 6))\n",
    "# plt.plot(fpr, tpr, color='darkorange', lw=2, label='ROC curve (area = %0.2f)' % roc_auc)\n",
    "# plt.plot([0, 1], [0, 1], color='navy', lw=2, linestyle='--')\n",
    "# plt.xlim([0.0, 1.0])\n",
    "# plt.ylim([0.0, 1.05])\n",
    "# plt.xlabel('False Positive Rate')\n",
    "# plt.ylabel('True Positive Rate')\n",
    "# plt.title('Receiver Operating Characteristic (ROC)')\n",
    "# plt.legend(loc='lower right')\n",
    "# plt.show()\n"
   ]
  },
  {
   "cell_type": "markdown",
   "metadata": {},
   "source": [
    "Essa função plota a perda de treinamento e validação em um gráfico, além de uma segunda plotagem com a acurácia de validação. A separação em duas subplots permite que você visualize a evolução da perda e da acurácia de forma mais clara.\n",
    "\n",
    "Ao analisar a curva de aprendizado, observa-se os seguintes pontos:\n",
    "\n",
    "    Perda de Treinamento e Validação: \n",
    "    \n",
    "    - Uma perda de treinamento muito baixa em comparação com a perda de validação pode indicar overfitting, enquanto uma perda alta em ambos os casos pode indicar underfitting.\n",
    "\n",
    "    Acurácia de Validação: \n",
    "    \n",
    "    - Uma curva de acurácia crescente indica que o modelo está aprendendo e melhorando. Uma estagnação ou queda na acurácia de validação pode indicar overfitting.\n",
    "\n",
    "A interpretação da curva de aprendizado pode variar dependendo da natureza do problema, dos dados e da configuração do modelo. Portanto, é importante analisar a curva com cuidado e fazer ajustes conforme necessário.\n",
    "\n",
    "Mas, em linhas gerais, um bom aprendizado para o modelo é caracterizado por um comportamento específico nas curvas de aprendizado ao longo das épocas. Aqui estão os padrões que você deve observar para determinar se o seu modelo está aprendendo de maneira adequada:\n",
    "\n",
    "1. **Perda de Treinamento e Validação:**\n",
    "   - A perda de treinamento deve diminuir consistentemente ao longo das épocas. Isso indica que o modelo está se ajustando aos dados de treinamento e melhorando a sua capacidade de fazer previsões precisas.\n",
    "   - A perda de validação deve diminuir inicialmente, mas pode começar a se estabilizar ou até mesmo aumentar ligeiramente. Isso é esperado à medida que o modelo começa a se ajustar aos detalhes específicos do conjunto de treinamento e pode começar a generalizar menos bem para dados novos. No entanto, uma diferença significativa entre a perda de treinamento e a perda de validação indica overfitting, enquanto valores altos para ambas podem indicar underfitting.\n",
    "\n",
    "2. **Acurácia de Validação:**\n",
    "   - A acurácia de validação deve aumentar consistentemente à medida que o modelo aprende a fazer previsões melhores.\n",
    "   - Assim como a perda de validação, a acurácia pode começar a se estabilizar ou aumentar mais lentamente à medida que o modelo se ajusta aos dados de treinamento.\n",
    "   - Se a acurácia de treinamento continuar a aumentar enquanto a acurácia de validação começa a cair ou se estabiliza, isso sugere overfitting, pois o modelo está se tornando muito especializado nos dados de treinamento.\n",
    "\n",
    "Em resumo, um bom aprendizado é caracterizado por uma perda de treinamento em queda, uma perda de validação que diminui inicialmente e depois se estabiliza, e uma acurácia de validação crescente. É importante observar a relação entre a perda de treinamento e a perda de validação, bem como a taxa de crescimento da acurácia de validação, para avaliar se o modelo está encontrando um bom equilíbrio entre aprender com os dados de treinamento e generalizar para dados novos."
   ]
  },
  {
   "cell_type": "markdown",
   "metadata": {},
   "source": [
    "# Fazer classificações com dados novos"
   ]
  },
  {
   "cell_type": "code",
   "execution_count": 7,
   "metadata": {},
   "outputs": [
    {
     "data": {
      "text/plain": [
       "['capes_areas-de-conhecimento.pdf',\n",
       " 'cnpq_tabela-areas-conhecimento.pdf',\n",
       " 'fioce_colaboradores-2023.xls',\n",
       " 'fioce_producao_2008.01-2023.06.xlsx',\n",
       " 'fiocruz_unidade-desconhecida.xlsx',\n",
       " 'Impact-Factor-2023.pdf',\n",
       " 'lista_orientadores_funcap_2023.csv',\n",
       " 'sucupira_todas_as_areas_avaliacao1672761192111.csv']"
      ]
     },
     "execution_count": 7,
     "metadata": {},
     "output_type": "execute_result"
    }
   ],
   "source": [
    "import sys\n",
    "sys.path.append('../../../../utils')\n",
    "sys.path.append('../../../../source/adapters/input/data/')\n",
    "\n",
    "import os\n",
    "from cnpq_classes import *\n",
    "\n",
    "pasta_arquivo = \"C:/Users/marco/fioce/source/adapters/input/data/\"\n",
    "os.listdir(pasta_arquivo)"
   ]
  },
  {
   "cell_type": "code",
   "execution_count": 8,
   "metadata": {},
   "outputs": [
    {
     "data": {
      "application/vnd.jupyter.widget-view+json": {
       "model_id": "53632719d0b8499493e8797429076e86",
       "version_major": 2,
       "version_minor": 0
      },
      "text/plain": [
       "Processando páginas do PDF das Áreas de pesquisa do CNPq..:   0%|          | 0/21 [00:00<?, ?it/s]"
      ]
     },
     "metadata": {},
     "output_type": "display_data"
    },
    {
     "name": "stdout",
     "output_type": "stream",
     "text": [
      "Total dos códigos   identificados: 1285\n",
      "Total de descrições identificadas: 1285\n",
      "Nenhum erro de códigos em descrições!\n",
      "144 possíveis erros de descrição detectados.\n"
     ]
    },
    {
     "data": {
      "application/vnd.jupyter.widget-view+json": {
       "model_id": "c55ab240e2194df6858930de34da4488",
       "version_major": 2,
       "version_minor": 0
      },
      "text/plain": [
       "Corrigindo descrições...:   0%|          | 0/1285 [00:00<?, ?it/s]"
      ]
     },
     "metadata": {},
     "output_type": "display_data"
    }
   ],
   "source": [
    "arquivo = 'cnpq_tabela-areas-conhecimento.pdf'\n",
    "caminho = pasta_arquivo+arquivo\n",
    "df_areas = extrair_areas(caminho)"
   ]
  },
  {
   "cell_type": "code",
   "execution_count": 9,
   "metadata": {},
   "outputs": [
    {
     "data": {
      "text/html": [
       "<div>\n",
       "<style scoped>\n",
       "    .dataframe tbody tr th:only-of-type {\n",
       "        vertical-align: middle;\n",
       "    }\n",
       "\n",
       "    .dataframe tbody tr th {\n",
       "        vertical-align: top;\n",
       "    }\n",
       "\n",
       "    .dataframe thead th {\n",
       "        text-align: right;\n",
       "    }\n",
       "</style>\n",
       "<table border=\"1\" class=\"dataframe\">\n",
       "  <thead>\n",
       "    <tr style=\"text-align: right;\">\n",
       "      <th></th>\n",
       "      <th>Codigo</th>\n",
       "      <th>Descricao</th>\n",
       "    </tr>\n",
       "  </thead>\n",
       "  <tbody>\n",
       "    <tr>\n",
       "      <th>0</th>\n",
       "      <td>1.00.00.00-3</td>\n",
       "      <td>Ciências Exatas e da Terra</td>\n",
       "    </tr>\n",
       "    <tr>\n",
       "      <th>1</th>\n",
       "      <td>1.01.00.00-8</td>\n",
       "      <td>Matemática</td>\n",
       "    </tr>\n",
       "    <tr>\n",
       "      <th>2</th>\n",
       "      <td>1.01.01.00-4</td>\n",
       "      <td>Álgebra</td>\n",
       "    </tr>\n",
       "    <tr>\n",
       "      <th>3</th>\n",
       "      <td>1.01.01.01-2</td>\n",
       "      <td>Conjuntos</td>\n",
       "    </tr>\n",
       "    <tr>\n",
       "      <th>4</th>\n",
       "      <td>1.01.01.02-0</td>\n",
       "      <td>Lógica Matemática</td>\n",
       "    </tr>\n",
       "    <tr>\n",
       "      <th>...</th>\n",
       "      <td>...</td>\n",
       "      <td>...</td>\n",
       "    </tr>\n",
       "    <tr>\n",
       "      <th>1280</th>\n",
       "      <td>8.03.08.02-3</td>\n",
       "      <td>Roteiro e Direção  Cinematográficos</td>\n",
       "    </tr>\n",
       "    <tr>\n",
       "      <th>1281</th>\n",
       "      <td>8.03.08.03-1</td>\n",
       "      <td>Técnicas de Registro e Processamento de Filmes</td>\n",
       "    </tr>\n",
       "    <tr>\n",
       "      <th>1282</th>\n",
       "      <td>8.03.08.04-0</td>\n",
       "      <td>Interpretação Cinematográfica</td>\n",
       "    </tr>\n",
       "    <tr>\n",
       "      <th>1283</th>\n",
       "      <td>8.03.09.00-3</td>\n",
       "      <td>Artes do Vídeo</td>\n",
       "    </tr>\n",
       "    <tr>\n",
       "      <th>1284</th>\n",
       "      <td>8.03.10.00-1</td>\n",
       "      <td>Educação Artística</td>\n",
       "    </tr>\n",
       "  </tbody>\n",
       "</table>\n",
       "<p>1285 rows × 2 columns</p>\n",
       "</div>"
      ],
      "text/plain": [
       "            Codigo                                       Descricao\n",
       "0     1.00.00.00-3                      Ciências Exatas e da Terra\n",
       "1     1.01.00.00-8                                      Matemática\n",
       "2     1.01.01.00-4                                         Álgebra\n",
       "3     1.01.01.01-2                                       Conjuntos\n",
       "4     1.01.01.02-0                               Lógica Matemática\n",
       "...            ...                                             ...\n",
       "1280  8.03.08.02-3             Roteiro e Direção  Cinematográficos\n",
       "1281  8.03.08.03-1  Técnicas de Registro e Processamento de Filmes\n",
       "1282  8.03.08.04-0                   Interpretação Cinematográfica\n",
       "1283  8.03.09.00-3                                  Artes do Vídeo\n",
       "1284  8.03.10.00-1                              Educação Artística\n",
       "\n",
       "[1285 rows x 2 columns]"
      ]
     },
     "execution_count": 9,
     "metadata": {},
     "output_type": "execute_result"
    }
   ],
   "source": [
    "df_areas"
   ]
  },
  {
   "cell_type": "code",
   "execution_count": null,
   "metadata": {},
   "outputs": [],
   "source": [
    "# levels = df_areas['Codigo'].str.count(\"\\.\").iloc[0]  # conta a quantidade de pontos, para determinar o número de níveis\n",
    "# unique_counts = [count_unique_for_level(i) for i in range(levels)]\n",
    "# unique_counts.append(count_unique_for_last_level())\n",
    "\n",
    "# qte_grandeareas, qte_areas, qte_subareas, qte_especialidades = unique_counts\n",
    "# print(f'Quantidades de codigos:')\n",
    "# print(f'  Grande_Área: {qte_grandeareas:2}')\n",
    "# print(f'         Área: {qte_areas:2}')\n",
    "# print(f'      Subárea: {qte_subareas:2}')\n",
    "# print(f'Especialidade: {qte_especialidades:2}')\n",
    "\n",
    "# Dividir a coluna 'Codigo' no ponto '.' gerando as subdivisões\n",
    "df_split = df_areas['Codigo'].str.split('.', expand=True)\n",
    "\n",
    "# Parte do código referente à classificação na grande área\n",
    "n1_area = df_split.iloc[:, -1] = df_split.iloc[:, 0].str.split('-').str[0]\n",
    "\n",
    "# Parte do código referente à classificação na subárea da área\n",
    "n2_area = df_split.iloc[:, -1] = df_split.iloc[:, 1].str.split('-').str[0]\n",
    "\n",
    "# Parte do código referente à classificação na subárea da área\n",
    "n3_subarea = df_split.iloc[:, -1] = df_split.iloc[:, 2].str.split('-').str[0]\n",
    "\n",
    "# Remover o último hífen e apresentar especialidade\n",
    "n4_especialidade = df_split.iloc[:, -1] = df_split.iloc[:, 3].str.split('-').str[0]"
   ]
  },
  {
   "cell_type": "code",
   "execution_count": null,
   "metadata": {},
   "outputs": [],
   "source": [
    "import torch\n",
    "import torch_geometric.transforms as T\n",
    "from torch_geometric.data import Data\n",
    "\n",
    "def preprocess_data(title, abstract, keywords):\n",
    "    # Aqui você deve realizar o pré-processamento dos títulos, resumos e palavras-chave.\n",
    "    # Pode envolver tokenização, remoção de stopwords, etc.\n",
    "    # Transforme os dados em tensores PyTorch conforme necessário.\n",
    "\n",
    "    # Exemplo de pré-processamento simples:\n",
    "    # text = title + ' ' + abstract + ' ' + keywords\n",
    "    # tokens = tokenize_and_preprocess(text)\n",
    "    # Converta os tokens em tensores PyTorch\n",
    "\n",
    "    # Crie um objeto Data para usar com o modelo\n",
    "    # Aqui, você pode precisar criar edge_index, x (recursos) e outros atributos\n",
    "    data = Data(x=your_features_tensor, edge_index=your_edge_index_tensor)\n",
    "    \n",
    "    return data\n",
    "\n",
    "def classify_data(model, title, abstract, keywords):\n",
    "    # Preprocessar os dados\n",
    "    data = preprocess_data(title, abstract, keywords)\n",
    "    \n",
    "    # Executar o modelo para fazer previsões\n",
    "    model.eval()\n",
    "    with torch.no_grad():\n",
    "        out = model(data)\n",
    "    \n",
    "    # As previsões estarão em 'out'\n",
    "    return out\n",
    "\n",
    "# Exemplo de uso\n",
    "# Substitua 'your_model' pelo seu modelo treinado e forneça os títulos, resumos e palavras-chave\n",
    "title = \"Sample title\"\n",
    "abstract = \"This is a sample abstract for testing.\"\n",
    "keywords = \"sample, abstract, testing\"\n",
    "predictions = classify_data(your_model, title, abstract, keywords)\n",
    "print(predictions)"
   ]
  },
  {
   "cell_type": "code",
   "execution_count": null,
   "metadata": {},
   "outputs": [],
   "source": [
    "def get_vector(title):\n",
    "    # Aqui, o processo é mais complicado, pois você precisa converter seu título em um formato aceitável pelo modelo\n",
    "    # e depois passá-lo pelo GCN para obter um embedding. \n",
    "    pass"
   ]
  },
  {
   "cell_type": "markdown",
   "metadata": {},
   "source": [
    "Se você deseja treinar o modelo do zero com seus próprios dados, você precisará seguir algumas etapas adicionais. Aqui está um guia geral sobre como treinar um modelo de classificação usando PyTorch Geometric com seus próprios dados:\n",
    "\n",
    "1. **Preparação dos Dados:**\n",
    "   - Carregue seus dados textuais (títulos, resumos, palavras-chave) e rotulados em um formato adequado (dataframes do pandas, listas de dicionários, etc.).\n",
    "   - Realize o pré-processamento dos textos, que pode incluir tokenização, remoção de stopwords, vetorização (por exemplo, usando TF-IDF ou incorporações de palavras) e conversão para formatos de tensores do PyTorch.\n",
    "\n",
    "2. **Construção do Grafo:**\n",
    "   - Construa um grafo que represente as relações entre os dados. Isso pode envolver a criação de nós para documentos e palavras-chave, bem como a criação de arestas para representar associações entre eles.\n",
    "\n",
    "3. **Definição do Modelo:**\n",
    "   - Crie uma classe para o seu modelo, que estenderá `torch.nn.Module`.\n",
    "   - Defina as camadas do seu modelo, incluindo camadas de convolução (GCN ou outras), camadas de ativação e camadas de saída.\n",
    "\n",
    "4. **Preparação dos Dados para PyTorch Geometric:**\n",
    "   - Converta seus dados em objetos `Data` do PyTorch Geometric. Isso envolve a criação de tensores para os recursos dos nós, os índices das arestas e os rótulos dos nós.\n",
    "\n",
    "5. **Divisão dos Dados:**\n",
    "   - Divida seus dados em conjuntos de treinamento, validação e teste.\n",
    "   - Atribua máscaras aos nós para indicar quais nós pertencem a cada conjunto.\n",
    "\n",
    "6. **Treinamento do Modelo:**\n",
    "   - Defina uma função de perda (por exemplo, perda de entropia cruzada) e um otimizador (por exemplo, Adam).\n",
    "   - Execute um loop de treinamento em várias épocas, alimentando o modelo com os dados de treinamento e atualizando os pesos com base na função de perda.\n",
    "\n",
    "7. **Avaliação do Modelo:**\n",
    "   - Avalie o desempenho do modelo nos conjuntos de validação e teste usando métricas apropriadas, como acurácia, F1-score, AUC-ROC etc.\n",
    "\n",
    "8. **Ajuste e Otimização:**\n",
    "   - Ajuste os hiperparâmetros do modelo e da otimização, como taxa de aprendizado, tamanho das camadas, número de camadas, etc.\n",
    "   - Use a avaliação nos conjuntos de validação para guiar o ajuste dos hiperparâmetros.\n",
    "\n",
    "9. **Teste Final:**\n",
    "   - Avalie o modelo no conjunto de teste para obter uma estimativa final do seu desempenho.\n",
    "\n",
    "10. **Implantação e Uso:**\n",
    "   - Use o modelo treinado para fazer previsões em novos dados não rotulados.\n",
    "\n",
    "Lembre-se de que o processo de treinamento de modelos de aprendizado de máquina é iterativo e pode envolver várias tentativas e ajustes para obter o melhor desempenho. Certifique-se de acompanhar as métricas de avaliação e iterar conforme necessário para melhorar o seu modelo."
   ]
  },
  {
   "cell_type": "code",
   "execution_count": null,
   "metadata": {},
   "outputs": [],
   "source": [
    "import torch\n",
    "from torch.utils.data import Dataset, DataLoader\n",
    "\n",
    "class MyDataset(Dataset):\n",
    "    def __init__(self, data, labels):\n",
    "        self.data = data\n",
    "        self.labels = labels\n",
    "        \n",
    "    def __len__(self):\n",
    "        return len(self.data)\n",
    "    \n",
    "    def __getitem__(self, idx):\n",
    "        return self.data[idx], self.labels[idx]\n",
    "\n",
    "# Divisão dos dados em conjuntos\n",
    "train_dataset = MyDataset(train_data, train_labels)\n",
    "val_dataset = MyDataset(val_data, val_labels)\n",
    "test_dataset = MyDataset(test_data, test_labels)\n",
    "\n",
    "# Criação de dataloaders para carregar os dados durante o treinamento\n",
    "batch_size = 32\n",
    "train_loader = DataLoader(train_dataset, batch_size=batch_size, shuffle=True)\n",
    "val_loader = DataLoader(val_dataset, batch_size=batch_size, shuffle=False)\n",
    "test_loader = DataLoader(test_dataset, batch_size=batch_size, shuffle=False)\n"
   ]
  }
 ],
 "metadata": {
  "kernelspec": {
   "display_name": "beakerx",
   "language": "python",
   "name": "python3"
  },
  "language_info": {
   "codemirror_mode": {
    "name": "ipython",
    "version": 3
   },
   "file_extension": ".py",
   "mimetype": "text/x-python",
   "name": "python",
   "nbconvert_exporter": "python",
   "pygments_lexer": "ipython3",
   "version": "3.11.2"
  },
  "orig_nbformat": 4
 },
 "nbformat": 4,
 "nbformat_minor": 2
}
