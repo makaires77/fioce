{
 "cells": [
  {
   "cell_type": "markdown",
   "metadata": {},
   "source": [
    "O conjunto de dados Cora é comumente usado em tarefas de classificação de documentos. Ele é composto por citações científicas e cada documento é representado como uma bag-of-words binária. O desafio com Cora é que ele não é um modelo de embeddings de palavras, como o GloVe ou o FastText. Em vez disso, é um conjunto de dados de documentos.\n",
    "\n",
    "Se você deseja usar o conjunto de dados Cora para criar embeddings, você terá que treinar um modelo nele. Uma abordagem popular para isso é usar o método Graph Neural Networks (GNNs) ou Graph Convolutional Networks (GCNs) para aprender representações vetoriais dos documentos.\n",
    "\n",
    "Passos principais:\n",
    "\n",
    "    Carregar o conjunto de dados Cora: Isso envolve carregar os documentos e o gráfico de citação.\n",
    "\n",
    "    Treinar um GCN: Usando o gráfico de citação e os recursos dos documentos (bag-of-words binária), você pode treinar um GCN para aprender embeddings para cada documento.\n",
    "\n",
    "    Gerar Embeddings para Títulos: Depois de treinar o GCN, você pode usá-lo para gerar embeddings para qualquer documento no conjunto de dados Cora.\n",
    "\n",
    "Para implementar um GCN com PyTorch, você provavelmente usaria uma biblioteca como o PyTorch Geometric. Treinar um GCN é um processo mais envolvido do que simplesmente carregar embeddings pré-treinados como o GloVe."
   ]
  },
  {
   "cell_type": "markdown",
   "metadata": {},
   "source": [
    "# Instalando o PyTorch Geometric"
   ]
  },
  {
   "cell_type": "code",
   "execution_count": 1,
   "metadata": {},
   "outputs": [],
   "source": [
    "# !python -m venv pytorch\n",
    "# !pytorch\\Scripts\\activate\n",
    "\n",
    "# pip3 install torch torchvision torchaudio --index-url https://download.pytorch.org/whl/cu118\n",
    "# !pip install torch-scatter -f https://pytorch-geometric.com/whl/torch-2.0.0+cu118.html\n",
    "# !pip install torch-sparse -f https://pytorch-geometric.com/whl/torch-2.0.0+cu118.html\n",
    "# !pip install torch-cluster -f https://pytorch-geometric.com/whl/torch-2.0.0+cu118.html\n",
    "# !pip install torch-spline-conv -f https://pytorch-geometric.com/whl/torch-2.0.0+cu118.html\n",
    "\n",
    "# !pip install torch-geometric"
   ]
  },
  {
   "cell_type": "code",
   "execution_count": 3,
   "metadata": {},
   "outputs": [],
   "source": [
    "# import runpy\n",
    "\n",
    "# # Carrega as funções diretamente do arquivo pytorch_checks.py\n",
    "# check_pytorch = runpy.run_path('../../../../utils/pytorch_checks.py')['check_pytorch']\n",
    "# check_gpu = runpy.run_path('../../../../utils/pytorch_checks.py')['check_gpu']\n"
   ]
  },
  {
   "cell_type": "code",
   "execution_count": 7,
   "metadata": {},
   "outputs": [],
   "source": [
    "# import importlib.util\n",
    "\n",
    "# # Especifique o caminho completo para o arquivo pytorch_checks.py\n",
    "# path = '../../../../utils/pytorch_checks.py'\n",
    "\n",
    "# # Carrega as funções diretamente do arquivo pytorch_checks.py\n",
    "# spec = importlib.util.spec_from_file_location(\"pytorch_checks\", path)\n",
    "# pytorch_checks = importlib.util.module_from_spec(spec)\n",
    "# spec.loader.exec_module(pytorch_checks)\n",
    "\n",
    "# check_pytorch = pytorch_checks.check_pytorch\n",
    "# check_gpu = pytorch_checks.check_gpu"
   ]
  },
  {
   "cell_type": "code",
   "execution_count": 4,
   "metadata": {},
   "outputs": [
    {
     "name": "stdout",
     "output_type": "stream",
     "text": [
      "PyTorch version: 2.0.1+cu118\n",
      "PyTorch Geometric version: 2.3.1\n",
      "GPU is available\n",
      "GPU Device Name: NVIDIA GeForce RTX 2060\n",
      "CUDA Version: 11.8\n"
     ]
    },
    {
     "data": {
      "text/plain": [
       "device(type='cuda')"
      ]
     },
     "execution_count": 4,
     "metadata": {},
     "output_type": "execute_result"
    }
   ],
   "source": [
    "import sys\n",
    "sys.path.append('../../../../utils')\n",
    "\n",
    "from pytorch_checks import check_pytorch, check_gpu\n",
    "check_pytorch()\n",
    "check_gpu()"
   ]
  },
  {
   "cell_type": "code",
   "execution_count": null,
   "metadata": {},
   "outputs": [],
   "source": [
    "import torch\n",
    "import torch.nn.functional as F\n",
    "from torch_geometric.datasets import Planetoid\n",
    "import torch_geometric.transforms as T\n",
    "from torch_geometric.nn import GCNConv\n",
    "\n",
    "# Carregando o conjunto de dados Cora\n",
    "dataset = Planetoid(root='/tmp/Cora', name='Cora', transform=T.NormalizeFeatures())\n",
    "\n",
    "class GCN(torch.nn.Module):\n",
    "    def __init__(self):\n",
    "        super(GCN, self).__init__()\n",
    "        self.conv1 = GCNConv(dataset.num_features, 16)\n",
    "        self.conv2 = GCNConv(16, dataset.num_classes)\n",
    "\n",
    "    def forward(self, data):\n",
    "        x, edge_index = data.x, data.edge_index\n",
    "\n",
    "        x = self.conv1(x, edge_index)\n",
    "        x = F.relu(x)\n",
    "        x = F.dropout(x, training=self.training)\n",
    "        x = self.conv2(x, edge_index)\n",
    "\n",
    "        return F.log_softmax(x, dim=1)\n",
    "\n",
    "device = torch.device('cuda' if torch.cuda.is_available() else 'cpu')\n",
    "model = GCN().to(device)\n",
    "data = dataset[0].to(device)\n",
    "optimizer = torch.optim.Adam(model.parameters(), lr=0.01, weight_decay=5e-4)\n",
    "\n",
    "model.train()\n",
    "for epoch in range(200):\n",
    "    optimizer.zero_grad()\n",
    "    out = model(data)\n",
    "    loss = F.nll_loss(out[data.train_mask], data.y[data.train_mask])\n",
    "    loss.backward()\n",
    "    optimizer.step()\n",
    "\n",
    "def get_vector(title):\n",
    "    # Aqui, o processo é mais complicado, pois você precisa converter seu título em um formato aceitável pelo modelo\n",
    "    # e depois passá-lo pelo GCN para obter um embedding. \n",
    "    pass"
   ]
  }
 ],
 "metadata": {
  "kernelspec": {
   "display_name": "beakerx",
   "language": "python",
   "name": "python3"
  },
  "language_info": {
   "codemirror_mode": {
    "name": "ipython",
    "version": 3
   },
   "file_extension": ".py",
   "mimetype": "text/x-python",
   "name": "python",
   "nbconvert_exporter": "python",
   "pygments_lexer": "ipython3",
   "version": "3.11.2"
  },
  "orig_nbformat": 4
 },
 "nbformat": 4,
 "nbformat_minor": 2
}
