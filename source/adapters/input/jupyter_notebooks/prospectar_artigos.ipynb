{
 "cells": [
  {
   "cell_type": "code",
   "execution_count": 11,
   "metadata": {},
   "outputs": [
    {
     "name": "stdout",
     "output_type": "stream",
     "text": [
      "Fetching data for DoWhy...\n",
      "Number of articles mentioning DoWhy in Google Scholar: 633  \n",
      "Number of articles mentioning DoWhy in         PubMed: 14   \n",
      "Number of articles mentioning DoWhy in Science Direct: Failed to retrieve data, HTTP Status Code: 403\n",
      "---------------------------------------------------------------------------\n",
      "Fetching data for CausalML...\n",
      "Number of articles mentioning CausalML in Google Scholar: 504  \n",
      "Number of articles mentioning CausalML in         PubMed: 10,630,105\n",
      "Number of articles mentioning CausalML in Science Direct: Failed to retrieve data, HTTP Status Code: 403\n",
      "---------------------------------------------------------------------------\n"
     ]
    }
   ],
   "source": [
    "# Importação de bibliotecas necessárias\n",
    "from selenium.webdriver.support.ui import WebDriverWait\n",
    "from selenium.webdriver.support import expected_conditions as EC\n",
    "from selenium.webdriver.common.by import By\n",
    "from selenium import webdriver\n",
    "from bs4 import BeautifulSoup\n",
    "from lxml import html\n",
    "import requests\n",
    "import time\n",
    "import re\n",
    "\n",
    "def search_google_scholar(keyword):\n",
    "    url = f\"https://scholar.google.com/scholar?q={keyword}\"\n",
    "    response = requests.get(url)\n",
    "    soup = BeautifulSoup(response.content, 'html.parser')\n",
    "    results = soup.find('div', {'id': 'gs_ab_md'})\n",
    "    if results:\n",
    "        return results.text.split()[1]\n",
    "    else:\n",
    "        return \"Data not available\"\n",
    "\n",
    "def search_pubmed(keyword):\n",
    "    url = f\"https://pubmed.ncbi.nlm.nih.gov/?term={keyword}\"\n",
    "    response = requests.get(url)\n",
    "    soup = BeautifulSoup(response.content, 'html.parser')\n",
    "    results = soup.find('div', {'class': 'results-amount'})\n",
    "    if results:\n",
    "        return results.text.strip().split()[0]\n",
    "    else:\n",
    "        return \"Data not available\"\n",
    "\n",
    "def search_science_direct_selenium(keyword):\n",
    "    options = webdriver.ChromeOptions()\n",
    "    options.add_argument(\"--headless\")\n",
    "    driver = webdriver.Chrome(options=options)\n",
    "    \n",
    "    url = f\"https://www.sciencedirect.com/search?qs={keyword}&articleTypes=REV%2CFLA&lastSelectedFacet=articleTypes\"\n",
    "    driver.get(url)\n",
    "    \n",
    "    try:\n",
    "        element = WebDriverWait(driver, 10).until(\n",
    "            EC.presence_of_element_located((By.CSS_SELECTOR, \"span.search-body-results-text\"))\n",
    "        )\n",
    "        text = element.text\n",
    "        results = int(re.search(r'\\d+', text).group())\n",
    "        return str(results)\n",
    "    except Exception as e:\n",
    "        return f\"Exception encountered: {e}\"\n",
    "    finally:\n",
    "        driver.quit()\n",
    "\n",
    "\n",
    "    \n",
    "if __name__ == \"__main__\":\n",
    "    keywords = [\"DoWhy\", \"CausalML\"]\n",
    "\n",
    "    for keyword in keywords:\n",
    "        print(f\"Fetching data for {keyword}...\")\n",
    "        \n",
    "        # Google Scholar\n",
    "        gs_count = search_google_scholar(keyword)\n",
    "        print(f\"Number of articles mentioning {keyword} in Google Scholar: {gs_count:5}\")\n",
    "\n",
    "        # PubMed\n",
    "        pm_count = search_pubmed(keyword)\n",
    "        print(f\"Number of articles mentioning {keyword} in         PubMed: {pm_count:5}\")\n",
    "\n",
    "        # Science Direct\n",
    "        sd_count = search_science_direct(keyword)\n",
    "        print(f\"Number of articles mentioning {keyword} in Science Direct: {sd_count:5}\")\n",
    "\n",
    "        print(\"-\" * 75)\n",
    "        \n",
    "        # Adding sleep to avoid rate-limiting\n",
    "        time.sleep(5)"
   ]
  },
  {
   "cell_type": "code",
   "execution_count": 8,
   "metadata": {},
   "outputs": [
    {
     "data": {
      "text/plain": [
       "'https://www.sciencedirect.com/search?qs=CausalML&articleTypes=REV%2CFLA&lastSelectedFacet=articleTypes'"
      ]
     },
     "execution_count": 8,
     "metadata": {},
     "output_type": "execute_result"
    }
   ],
   "source": [
    "url = f\"https://www.sciencedirect.com/search?qs={keyword}&articleTypes=REV%2CFLA&lastSelectedFacet=articleTypes\"\n",
    "url"
   ]
  },
  {
   "cell_type": "code",
   "execution_count": 20,
   "metadata": {},
   "outputs": [
    {
     "name": "stdout",
     "output_type": "stream",
     "text": [
      "Number of articles related to 'DoWhy' in ScienceDirect: Failed to retrieve data, HTTP Status Code: 410\n"
     ]
    }
   ],
   "source": [
    "import requests\n",
    "import re\n",
    "import json\n",
    "import time\n",
    "\n",
    "def search_science_direct_api(keyword, api_key):\n",
    "    \"\"\"\n",
    "    Searches the ScienceDirect API for articles related to a specific keyword while adhering to API limits.\n",
    "    \n",
    "    Parameters:\n",
    "        keyword (str): The search keyword.\n",
    "        api_key (str): Your ScienceDirect API key.\n",
    "        \n",
    "    Returns:\n",
    "        int: The number of articles that match the query or an error message.\n",
    "    \"\"\"\n",
    "    \n",
    "    base_url = \"https://api.elsevier.com/content/search/scidir\"\n",
    "    headers = {\n",
    "        \"X-ELS-APIKey\": api_key\n",
    "    }\n",
    "    params = {\n",
    "        \"query\": keyword,\n",
    "        \"count\": 200  # Max number of results allowed per request as per API specs\n",
    "    }\n",
    "    \n",
    "    try:\n",
    "        # Respect the API rate limit (2 requests per second for ScienceDirect Search v2)\n",
    "        time.sleep(0.5)\n",
    "        \n",
    "        # Make the API request\n",
    "        response = requests.get(base_url, headers=headers, params=params)\n",
    "        \n",
    "        # Validate the response\n",
    "        if response.status_code == 200:\n",
    "            # Parse the JSON response\n",
    "            data = json.loads(response.text)\n",
    "            \n",
    "            # Retrieve the total number of search results\n",
    "            total_results = int(data['search-results']['opensearch:totalResults'])\n",
    "            \n",
    "            return total_results\n",
    "        \n",
    "        else:\n",
    "            return f\"Failed to retrieve data, HTTP Status Code: {response.status_code}\"\n",
    "    \n",
    "    except Exception as e:\n",
    "        return f\"An error occurred: {e}\"\n",
    "\n",
    "# Example usage\n",
    "api_key = \"57f20882ed177ae828ae2c1c6d1db58f\"\n",
    "keyword = \"DoWhy\"\n",
    "results = search_science_direct_api(keyword, api_key)\n",
    "print(f\"Number of articles related to '{keyword}' in ScienceDirect: {results}\")\n"
   ]
  },
  {
   "cell_type": "code",
   "execution_count": 22,
   "metadata": {},
   "outputs": [],
   "source": [
    "# !pip install elsapy"
   ]
  },
  {
   "cell_type": "code",
   "execution_count": 27,
   "metadata": {},
   "outputs": [
    {
     "ename": "HTTPError",
     "evalue": "HTTP 410 Error from https://api.elsevier.com/content/search/scidir?query=DoWhy+AND+%28DOCTYPE%28review%29+OR+DOCTYPE%28research-article%29%29\nand using headers {'X-ELS-APIKey': '57f20882ed177ae828ae2c1c6d1db58f', 'User-Agent': 'elsapy-v0.5.1', 'Accept': 'application/json'}:\n",
     "output_type": "error",
     "traceback": [
      "\u001b[1;31m---------------------------------------------------------------------------\u001b[0m",
      "\u001b[1;31mHTTPError\u001b[0m                                 Traceback (most recent call last)",
      "Cell \u001b[1;32mIn[27], line 30\u001b[0m\n\u001b[0;32m     28\u001b[0m api_key \u001b[39m=\u001b[39m \u001b[39m'\u001b[39m\u001b[39m57f20882ed177ae828ae2c1c6d1db58f\u001b[39m\u001b[39m'\u001b[39m\n\u001b[0;32m     29\u001b[0m keyword \u001b[39m=\u001b[39m \u001b[39m\"\u001b[39m\u001b[39mDoWhy\u001b[39m\u001b[39m\"\u001b[39m\n\u001b[1;32m---> 30\u001b[0m result_count \u001b[39m=\u001b[39m search_science_direct_elsapy(api_key, keyword)\n\u001b[0;32m     31\u001b[0m \u001b[39mprint\u001b[39m(\u001b[39mf\u001b[39m\u001b[39m\"\u001b[39m\u001b[39mNumber of articles related to \u001b[39m\u001b[39m'\u001b[39m\u001b[39m{\u001b[39;00mkeyword\u001b[39m}\u001b[39;00m\u001b[39m'\u001b[39m\u001b[39m in ScienceDirect: \u001b[39m\u001b[39m{\u001b[39;00mresult_count\u001b[39m}\u001b[39;00m\u001b[39m\"\u001b[39m)\n",
      "Cell \u001b[1;32mIn[27], line 22\u001b[0m, in \u001b[0;36msearch_science_direct_elsapy\u001b[1;34m(api_key, keyword, article_type)\u001b[0m\n\u001b[0;32m     20\u001b[0m \u001b[39m# Initialize search object and execute search, specifying the index to search the query in ('scidir' for ScienceDirect)\u001b[39;00m\n\u001b[0;32m     21\u001b[0m search_obj \u001b[39m=\u001b[39m ElsSearch(\u001b[39mf\u001b[39m\u001b[39m\"\u001b[39m\u001b[39m{\u001b[39;00mkeyword\u001b[39m}\u001b[39;00m\u001b[39m AND (\u001b[39m\u001b[39m{\u001b[39;00m\u001b[39m'\u001b[39m\u001b[39m OR \u001b[39m\u001b[39m'\u001b[39m\u001b[39m.\u001b[39mjoin([\u001b[39m'\u001b[39m\u001b[39mDOCTYPE(\u001b[39m\u001b[39m'\u001b[39m\u001b[39m+\u001b[39mx\u001b[39m+\u001b[39m\u001b[39m'\u001b[39m\u001b[39m)\u001b[39m\u001b[39m'\u001b[39m \u001b[39mfor\u001b[39;00m x \u001b[39min\u001b[39;00m article_type])\u001b[39m}\u001b[39;00m\u001b[39m)\u001b[39m\u001b[39m\"\u001b[39m,\u001b[39m'\u001b[39m\u001b[39mscidir\u001b[39m\u001b[39m'\u001b[39m)\n\u001b[1;32m---> 22\u001b[0m search_obj\u001b[39m.\u001b[39mexecute(client, get_all \u001b[39m=\u001b[39m \u001b[39mFalse\u001b[39;00m)\n\u001b[0;32m     24\u001b[0m \u001b[39m# Extract and return the number of results\u001b[39;00m\n\u001b[0;32m     25\u001b[0m \u001b[39mreturn\u001b[39;00m search_obj\u001b[39m.\u001b[39mresultsFound\n",
      "File \u001b[1;32mc:\\Users\\marco\\.conda\\envs\\beakerx\\Lib\\site-packages\\elsapy\\elssearch.py:108\u001b[0m, in \u001b[0;36mElsSearch.execute\u001b[1;34m(self, els_client, get_all, use_cursor, view, count, fields)\u001b[0m\n\u001b[0;32m    106\u001b[0m \u001b[39mif\u001b[39;00m view:\n\u001b[0;32m    107\u001b[0m     url \u001b[39m+\u001b[39m\u001b[39m=\u001b[39m \u001b[39m\"\u001b[39m\u001b[39m&view=\u001b[39m\u001b[39m{}\u001b[39;00m\u001b[39m\"\u001b[39m\u001b[39m.\u001b[39mformat(view)\n\u001b[1;32m--> 108\u001b[0m api_response \u001b[39m=\u001b[39m els_client\u001b[39m.\u001b[39mexec_request(url)\n\u001b[0;32m    109\u001b[0m \u001b[39mself\u001b[39m\u001b[39m.\u001b[39m_tot_num_res \u001b[39m=\u001b[39m \u001b[39mint\u001b[39m(api_response[\u001b[39m'\u001b[39m\u001b[39msearch-results\u001b[39m\u001b[39m'\u001b[39m][\u001b[39m'\u001b[39m\u001b[39mopensearch:totalResults\u001b[39m\u001b[39m'\u001b[39m])\n\u001b[0;32m    110\u001b[0m \u001b[39mself\u001b[39m\u001b[39m.\u001b[39m_results \u001b[39m=\u001b[39m api_response[\u001b[39m'\u001b[39m\u001b[39msearch-results\u001b[39m\u001b[39m'\u001b[39m][\u001b[39m'\u001b[39m\u001b[39mentry\u001b[39m\u001b[39m'\u001b[39m]\n",
      "File \u001b[1;32mc:\\Users\\marco\\.conda\\envs\\beakerx\\Lib\\site-packages\\elsapy\\elsclient.py:121\u001b[0m, in \u001b[0;36mElsClient.exec_request\u001b[1;34m(self, URL)\u001b[0m\n\u001b[0;32m    119\u001b[0m \u001b[39melse\u001b[39;00m:\n\u001b[0;32m    120\u001b[0m     \u001b[39mself\u001b[39m\u001b[39m.\u001b[39m_status_msg\u001b[39m=\u001b[39m\u001b[39m\"\u001b[39m\u001b[39mHTTP \u001b[39m\u001b[39m\"\u001b[39m \u001b[39m+\u001b[39m \u001b[39mstr\u001b[39m(r\u001b[39m.\u001b[39mstatus_code) \u001b[39m+\u001b[39m \u001b[39m\"\u001b[39m\u001b[39m Error from \u001b[39m\u001b[39m\"\u001b[39m \u001b[39m+\u001b[39m URL \u001b[39m+\u001b[39m \u001b[39m\"\u001b[39m\u001b[39m and using headers \u001b[39m\u001b[39m\"\u001b[39m \u001b[39m+\u001b[39m \u001b[39mstr\u001b[39m(headers) \u001b[39m+\u001b[39m \u001b[39m\"\u001b[39m\u001b[39m: \u001b[39m\u001b[39m\"\u001b[39m \u001b[39m+\u001b[39m r\u001b[39m.\u001b[39mtext\n\u001b[1;32m--> 121\u001b[0m     \u001b[39mraise\u001b[39;00m requests\u001b[39m.\u001b[39mHTTPError(\u001b[39m\"\u001b[39m\u001b[39mHTTP \u001b[39m\u001b[39m\"\u001b[39m \u001b[39m+\u001b[39m \u001b[39mstr\u001b[39m(r\u001b[39m.\u001b[39mstatus_code) \u001b[39m+\u001b[39m \u001b[39m\"\u001b[39m\u001b[39m Error from \u001b[39m\u001b[39m\"\u001b[39m \u001b[39m+\u001b[39m URL \u001b[39m+\u001b[39m \u001b[39m\"\u001b[39m\u001b[39m\\n\u001b[39;00m\u001b[39mand using headers \u001b[39m\u001b[39m\"\u001b[39m \u001b[39m+\u001b[39m \u001b[39mstr\u001b[39m(headers) \u001b[39m+\u001b[39m \u001b[39m\"\u001b[39m\u001b[39m:\u001b[39m\u001b[39m\\n\u001b[39;00m\u001b[39m\"\u001b[39m \u001b[39m+\u001b[39m r\u001b[39m.\u001b[39mtext)\n",
      "\u001b[1;31mHTTPError\u001b[0m: HTTP 410 Error from https://api.elsevier.com/content/search/scidir?query=DoWhy+AND+%28DOCTYPE%28review%29+OR+DOCTYPE%28research-article%29%29\nand using headers {'X-ELS-APIKey': '57f20882ed177ae828ae2c1c6d1db58f', 'User-Agent': 'elsapy-v0.5.1', 'Accept': 'application/json'}:\n"
     ]
    }
   ],
   "source": [
    "from elsapy.elsclient import ElsClient\n",
    "from elsapy.elssearch import ElsSearch\n",
    "import json\n",
    "\n",
    "def search_science_direct_elsapy(api_key, keyword, article_type=['review', 'research-article']):\n",
    "    \"\"\"Search the number of articles of a specific type containing the keyword in ScienceDirect using elsapy.\n",
    "    \n",
    "    Parameters:\n",
    "    - api_key (str): The API key for accessing Elsevier APIs.\n",
    "    - keyword (str): The search keyword.\n",
    "    - article_type (list): List of types of articles to be considered, default is ['review', 'research-article'].\n",
    "    \n",
    "    Returns:\n",
    "    int: Number of articles found.\n",
    "    \"\"\"\n",
    "\n",
    "    # Initialize the client\n",
    "    client = ElsClient(api_key)\n",
    "    \n",
    "    # Initialize search object and execute search, specifying the index to search the query in ('scidir' for ScienceDirect)\n",
    "    search_obj = ElsSearch(f\"{keyword} AND ({' OR '.join(['DOCTYPE('+x+')' for x in article_type])})\",'scidir')\n",
    "    search_obj.execute(client, get_all = False)\n",
    "    \n",
    "    # Extract and return the number of results\n",
    "    return search_obj.resultsFound\n",
    "\n",
    "# Example usage\n",
    "api_key = '57f20882ed177ae828ae2c1c6d1db58f'\n",
    "keyword = \"DoWhy\"\n",
    "result_count = search_science_direct_elsapy(api_key, keyword)\n",
    "print(f\"Number of articles related to '{keyword}' in ScienceDirect: {result_count}\")\n"
   ]
  },
  {
   "cell_type": "code",
   "execution_count": 28,
   "metadata": {},
   "outputs": [
    {
     "ename": "NameError",
     "evalue": "name 'myAuth' is not defined",
     "output_type": "error",
     "traceback": [
      "\u001b[1;31m---------------------------------------------------------------------------\u001b[0m",
      "\u001b[1;31mNameError\u001b[0m                                 Traceback (most recent call last)",
      "Cell \u001b[1;32mIn[28], line 2\u001b[0m\n\u001b[0;32m      1\u001b[0m myCl \u001b[39m=\u001b[39m ElsClient(\u001b[39m'\u001b[39m\u001b[39m[57f20882ed177ae828ae2c1c6d1db58f]\u001b[39m\u001b[39m'\u001b[39m)\n\u001b[1;32m----> 2\u001b[0m myAuth\u001b[39m.\u001b[39mread(myCl)\n\u001b[0;32m      3\u001b[0m myAuth\u001b[39m.\u001b[39mread()\n",
      "\u001b[1;31mNameError\u001b[0m: name 'myAuth' is not defined"
     ]
    }
   ],
   "source": [
    "myCl = ElsClient('[57f20882ed177ae828ae2c1c6d1db58f]')\n",
    "myAuth.read(myCl)\n",
    "myAuth.read()"
   ]
  }
 ],
 "metadata": {
  "kernelspec": {
   "display_name": "beakerx",
   "language": "python",
   "name": "python3"
  },
  "language_info": {
   "codemirror_mode": {
    "name": "ipython",
    "version": 3
   },
   "file_extension": ".py",
   "mimetype": "text/x-python",
   "name": "python",
   "nbconvert_exporter": "python",
   "pygments_lexer": "ipython3",
   "version": "3.11.2"
  },
  "orig_nbformat": 4
 },
 "nbformat": 4,
 "nbformat_minor": 2
}
